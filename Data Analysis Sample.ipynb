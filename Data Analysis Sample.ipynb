{
 "cells": [
  {
   "cell_type": "code",
   "execution_count": 1,
   "metadata": {},
   "outputs": [],
   "source": [
    "import numpy as np\n",
    "import pandas as pd\n",
    "import matplotlib.pyplot as plt\n",
    "import seaborn as sns\n",
    "%matplotlib inline\n",
    "    "
   ]
  },
  {
   "cell_type": "markdown",
   "metadata": {},
   "source": [
    "__Dataset-https://archive.ics.uci.edu/ml/datasets/Adult__"
   ]
  },
  {
   "cell_type": "code",
   "execution_count": 2,
   "metadata": {},
   "outputs": [],
   "source": [
    "dataset= pd.read_csv(\"c:\\\\data\\\\adult_census_data.csv\")"
   ]
  },
  {
   "cell_type": "code",
   "execution_count": 3,
   "metadata": {},
   "outputs": [
    {
     "data": {
      "text/plain": [
       "Index(['Age', 'Workclass', 'fnlwgt', 'education', 'education_nu',\n",
       "       'marital status', 'occupation', 'relationship', 'race', 'sex',\n",
       "       'capital_gain', 'capital_loss', 'hours_per_week', 'native_country',\n",
       "       'salary'],\n",
       "      dtype='object')"
      ]
     },
     "execution_count": 3,
     "metadata": {},
     "output_type": "execute_result"
    }
   ],
   "source": [
    "dataset.columns"
   ]
  },
  {
   "cell_type": "code",
   "execution_count": 44,
   "metadata": {},
   "outputs": [
    {
     "data": {
      "text/html": [
       "<div>\n",
       "<style scoped>\n",
       "    .dataframe tbody tr th:only-of-type {\n",
       "        vertical-align: middle;\n",
       "    }\n",
       "\n",
       "    .dataframe tbody tr th {\n",
       "        vertical-align: top;\n",
       "    }\n",
       "\n",
       "    .dataframe thead th {\n",
       "        text-align: right;\n",
       "    }\n",
       "</style>\n",
       "<table border=\"1\" class=\"dataframe\">\n",
       "  <thead>\n",
       "    <tr style=\"text-align: right;\">\n",
       "      <th></th>\n",
       "      <th>Age</th>\n",
       "      <th>Workclass</th>\n",
       "      <th>fnlwgt</th>\n",
       "      <th>education</th>\n",
       "      <th>education_nu</th>\n",
       "      <th>marital status</th>\n",
       "      <th>occupation</th>\n",
       "      <th>relationship</th>\n",
       "      <th>race</th>\n",
       "      <th>sex</th>\n",
       "      <th>capital_gain</th>\n",
       "      <th>capital_loss</th>\n",
       "      <th>hours_per_week</th>\n",
       "      <th>native_country</th>\n",
       "      <th>salary</th>\n",
       "    </tr>\n",
       "  </thead>\n",
       "  <tbody>\n",
       "    <tr>\n",
       "      <th>0</th>\n",
       "      <td>39</td>\n",
       "      <td>State-gov</td>\n",
       "      <td>77516</td>\n",
       "      <td>Bachelors</td>\n",
       "      <td>13</td>\n",
       "      <td>Never-married</td>\n",
       "      <td>Adm-clerical</td>\n",
       "      <td>Not-in-family</td>\n",
       "      <td>White</td>\n",
       "      <td>Male</td>\n",
       "      <td>2174</td>\n",
       "      <td>0</td>\n",
       "      <td>40</td>\n",
       "      <td>United-States</td>\n",
       "      <td>&lt;=50K</td>\n",
       "    </tr>\n",
       "    <tr>\n",
       "      <th>1</th>\n",
       "      <td>50</td>\n",
       "      <td>Self-emp-not-inc</td>\n",
       "      <td>83311</td>\n",
       "      <td>Bachelors</td>\n",
       "      <td>13</td>\n",
       "      <td>Married-civ-spouse</td>\n",
       "      <td>Exec-managerial</td>\n",
       "      <td>Husband</td>\n",
       "      <td>White</td>\n",
       "      <td>Male</td>\n",
       "      <td>0</td>\n",
       "      <td>0</td>\n",
       "      <td>13</td>\n",
       "      <td>United-States</td>\n",
       "      <td>&lt;=50K</td>\n",
       "    </tr>\n",
       "    <tr>\n",
       "      <th>2</th>\n",
       "      <td>38</td>\n",
       "      <td>Private</td>\n",
       "      <td>215646</td>\n",
       "      <td>HS-grad</td>\n",
       "      <td>9</td>\n",
       "      <td>Divorced</td>\n",
       "      <td>Handlers-cleaners</td>\n",
       "      <td>Not-in-family</td>\n",
       "      <td>White</td>\n",
       "      <td>Male</td>\n",
       "      <td>0</td>\n",
       "      <td>0</td>\n",
       "      <td>40</td>\n",
       "      <td>United-States</td>\n",
       "      <td>&lt;=50K</td>\n",
       "    </tr>\n",
       "    <tr>\n",
       "      <th>3</th>\n",
       "      <td>53</td>\n",
       "      <td>Private</td>\n",
       "      <td>234721</td>\n",
       "      <td>11th</td>\n",
       "      <td>7</td>\n",
       "      <td>Married-civ-spouse</td>\n",
       "      <td>Handlers-cleaners</td>\n",
       "      <td>Husband</td>\n",
       "      <td>Black</td>\n",
       "      <td>Male</td>\n",
       "      <td>0</td>\n",
       "      <td>0</td>\n",
       "      <td>40</td>\n",
       "      <td>United-States</td>\n",
       "      <td>&lt;=50K</td>\n",
       "    </tr>\n",
       "    <tr>\n",
       "      <th>4</th>\n",
       "      <td>28</td>\n",
       "      <td>Private</td>\n",
       "      <td>338409</td>\n",
       "      <td>Bachelors</td>\n",
       "      <td>13</td>\n",
       "      <td>Married-civ-spouse</td>\n",
       "      <td>Prof-specialty</td>\n",
       "      <td>Wife</td>\n",
       "      <td>Black</td>\n",
       "      <td>Female</td>\n",
       "      <td>0</td>\n",
       "      <td>0</td>\n",
       "      <td>40</td>\n",
       "      <td>Cuba</td>\n",
       "      <td>&lt;=50K</td>\n",
       "    </tr>\n",
       "  </tbody>\n",
       "</table>\n",
       "</div>"
      ],
      "text/plain": [
       "   Age          Workclass  fnlwgt   education  education_nu  \\\n",
       "0   39          State-gov   77516   Bachelors            13   \n",
       "1   50   Self-emp-not-inc   83311   Bachelors            13   \n",
       "2   38            Private  215646     HS-grad             9   \n",
       "3   53            Private  234721        11th             7   \n",
       "4   28            Private  338409   Bachelors            13   \n",
       "\n",
       "        marital status          occupation    relationship    race      sex  \\\n",
       "0        Never-married        Adm-clerical   Not-in-family   White     Male   \n",
       "1   Married-civ-spouse     Exec-managerial         Husband   White     Male   \n",
       "2             Divorced   Handlers-cleaners   Not-in-family   White     Male   \n",
       "3   Married-civ-spouse   Handlers-cleaners         Husband   Black     Male   \n",
       "4   Married-civ-spouse      Prof-specialty            Wife   Black   Female   \n",
       "\n",
       "   capital_gain  capital_loss  hours_per_week  native_country  salary  \n",
       "0          2174             0              40   United-States   <=50K  \n",
       "1             0             0              13   United-States   <=50K  \n",
       "2             0             0              40   United-States   <=50K  \n",
       "3             0             0              40   United-States   <=50K  \n",
       "4             0             0              40            Cuba   <=50K  "
      ]
     },
     "execution_count": 44,
     "metadata": {},
     "output_type": "execute_result"
    }
   ],
   "source": [
    "dataset.head(5)"
   ]
  },
  {
   "cell_type": "code",
   "execution_count": 5,
   "metadata": {},
   "outputs": [
    {
     "data": {
      "text/html": [
       "<div>\n",
       "<style scoped>\n",
       "    .dataframe tbody tr th:only-of-type {\n",
       "        vertical-align: middle;\n",
       "    }\n",
       "\n",
       "    .dataframe tbody tr th {\n",
       "        vertical-align: top;\n",
       "    }\n",
       "\n",
       "    .dataframe thead th {\n",
       "        text-align: right;\n",
       "    }\n",
       "</style>\n",
       "<table border=\"1\" class=\"dataframe\">\n",
       "  <thead>\n",
       "    <tr style=\"text-align: right;\">\n",
       "      <th></th>\n",
       "      <th>Age</th>\n",
       "      <th>Workclass</th>\n",
       "      <th>fnlwgt</th>\n",
       "      <th>education</th>\n",
       "      <th>education_nu</th>\n",
       "      <th>marital status</th>\n",
       "      <th>occupation</th>\n",
       "      <th>relationship</th>\n",
       "      <th>race</th>\n",
       "      <th>sex</th>\n",
       "      <th>capital_gain</th>\n",
       "      <th>capital_loss</th>\n",
       "      <th>hours_per_week</th>\n",
       "      <th>native_country</th>\n",
       "      <th>salary</th>\n",
       "    </tr>\n",
       "  </thead>\n",
       "  <tbody>\n",
       "    <tr>\n",
       "      <th>32559</th>\n",
       "      <td>22</td>\n",
       "      <td>Private</td>\n",
       "      <td>201490</td>\n",
       "      <td>HS-grad</td>\n",
       "      <td>9</td>\n",
       "      <td>Never-married</td>\n",
       "      <td>Adm-clerical</td>\n",
       "      <td>Own-child</td>\n",
       "      <td>White</td>\n",
       "      <td>Male</td>\n",
       "      <td>0</td>\n",
       "      <td>0</td>\n",
       "      <td>20</td>\n",
       "      <td>United-States</td>\n",
       "      <td>&lt;=50K</td>\n",
       "    </tr>\n",
       "    <tr>\n",
       "      <th>32560</th>\n",
       "      <td>52</td>\n",
       "      <td>Self-emp-inc</td>\n",
       "      <td>287927</td>\n",
       "      <td>HS-grad</td>\n",
       "      <td>9</td>\n",
       "      <td>Married-civ-spouse</td>\n",
       "      <td>Exec-managerial</td>\n",
       "      <td>Wife</td>\n",
       "      <td>White</td>\n",
       "      <td>Female</td>\n",
       "      <td>15024</td>\n",
       "      <td>0</td>\n",
       "      <td>40</td>\n",
       "      <td>United-States</td>\n",
       "      <td>&gt;50K</td>\n",
       "    </tr>\n",
       "  </tbody>\n",
       "</table>\n",
       "</div>"
      ],
      "text/plain": [
       "       Age      Workclass  fnlwgt education  education_nu  \\\n",
       "32559   22        Private  201490   HS-grad             9   \n",
       "32560   52   Self-emp-inc  287927   HS-grad             9   \n",
       "\n",
       "            marital status        occupation relationship    race      sex  \\\n",
       "32559        Never-married      Adm-clerical    Own-child   White     Male   \n",
       "32560   Married-civ-spouse   Exec-managerial         Wife   White   Female   \n",
       "\n",
       "       capital_gain  capital_loss  hours_per_week  native_country  salary  \n",
       "32559             0             0              20   United-States   <=50K  \n",
       "32560         15024             0              40   United-States    >50K  "
      ]
     },
     "execution_count": 5,
     "metadata": {},
     "output_type": "execute_result"
    }
   ],
   "source": [
    "dataset.tail(2)"
   ]
  },
  {
   "cell_type": "code",
   "execution_count": 6,
   "metadata": {},
   "outputs": [
    {
     "name": "stdout",
     "output_type": "stream",
     "text": [
      "<class 'pandas.core.frame.DataFrame'>\n",
      "RangeIndex: 32561 entries, 0 to 32560\n",
      "Data columns (total 15 columns):\n",
      "Age               32561 non-null int64\n",
      "Workclass         32561 non-null object\n",
      "fnlwgt            32561 non-null int64\n",
      "education         32561 non-null object\n",
      "education_nu      32561 non-null int64\n",
      "marital status    32561 non-null object\n",
      "occupation        32561 non-null object\n",
      "relationship      32561 non-null object\n",
      "race              32561 non-null object\n",
      "sex               32561 non-null object\n",
      "capital_gain      32561 non-null int64\n",
      "capital_loss      32561 non-null int64\n",
      "hours_per_week    32561 non-null int64\n",
      "native_country    32561 non-null object\n",
      "salary            32561 non-null object\n",
      "dtypes: int64(6), object(9)\n",
      "memory usage: 3.7+ MB\n"
     ]
    }
   ],
   "source": [
    "dataset.info()"
   ]
  },
  {
   "cell_type": "code",
   "execution_count": 7,
   "metadata": {},
   "outputs": [],
   "source": [
    "dataset['Age'] =pd.to_numeric(dataset['Age'])"
   ]
  },
  {
   "cell_type": "code",
   "execution_count": 8,
   "metadata": {},
   "outputs": [
    {
     "data": {
      "text/html": [
       "<div>\n",
       "<style scoped>\n",
       "    .dataframe tbody tr th:only-of-type {\n",
       "        vertical-align: middle;\n",
       "    }\n",
       "\n",
       "    .dataframe tbody tr th {\n",
       "        vertical-align: top;\n",
       "    }\n",
       "\n",
       "    .dataframe thead th {\n",
       "        text-align: right;\n",
       "    }\n",
       "</style>\n",
       "<table border=\"1\" class=\"dataframe\">\n",
       "  <thead>\n",
       "    <tr style=\"text-align: right;\">\n",
       "      <th></th>\n",
       "      <th>Age</th>\n",
       "      <th>Workclass</th>\n",
       "      <th>fnlwgt</th>\n",
       "      <th>education</th>\n",
       "      <th>education_nu</th>\n",
       "      <th>marital status</th>\n",
       "      <th>occupation</th>\n",
       "      <th>relationship</th>\n",
       "      <th>race</th>\n",
       "      <th>sex</th>\n",
       "      <th>capital_gain</th>\n",
       "      <th>capital_loss</th>\n",
       "      <th>hours_per_week</th>\n",
       "      <th>native_country</th>\n",
       "      <th>salary</th>\n",
       "    </tr>\n",
       "  </thead>\n",
       "  <tbody>\n",
       "    <tr>\n",
       "      <th>count</th>\n",
       "      <td>32561.000000</td>\n",
       "      <td>32561</td>\n",
       "      <td>3.256100e+04</td>\n",
       "      <td>32561</td>\n",
       "      <td>32561.000000</td>\n",
       "      <td>32561</td>\n",
       "      <td>32561</td>\n",
       "      <td>32561</td>\n",
       "      <td>32561</td>\n",
       "      <td>32561</td>\n",
       "      <td>32561.000000</td>\n",
       "      <td>32561.000000</td>\n",
       "      <td>32561.000000</td>\n",
       "      <td>32561</td>\n",
       "      <td>32561</td>\n",
       "    </tr>\n",
       "    <tr>\n",
       "      <th>unique</th>\n",
       "      <td>NaN</td>\n",
       "      <td>9</td>\n",
       "      <td>NaN</td>\n",
       "      <td>16</td>\n",
       "      <td>NaN</td>\n",
       "      <td>7</td>\n",
       "      <td>15</td>\n",
       "      <td>6</td>\n",
       "      <td>5</td>\n",
       "      <td>2</td>\n",
       "      <td>NaN</td>\n",
       "      <td>NaN</td>\n",
       "      <td>NaN</td>\n",
       "      <td>42</td>\n",
       "      <td>2</td>\n",
       "    </tr>\n",
       "    <tr>\n",
       "      <th>top</th>\n",
       "      <td>NaN</td>\n",
       "      <td>Private</td>\n",
       "      <td>NaN</td>\n",
       "      <td>HS-grad</td>\n",
       "      <td>NaN</td>\n",
       "      <td>Married-civ-spouse</td>\n",
       "      <td>Prof-specialty</td>\n",
       "      <td>Husband</td>\n",
       "      <td>White</td>\n",
       "      <td>Male</td>\n",
       "      <td>NaN</td>\n",
       "      <td>NaN</td>\n",
       "      <td>NaN</td>\n",
       "      <td>United-States</td>\n",
       "      <td>&lt;=50K</td>\n",
       "    </tr>\n",
       "    <tr>\n",
       "      <th>freq</th>\n",
       "      <td>NaN</td>\n",
       "      <td>22696</td>\n",
       "      <td>NaN</td>\n",
       "      <td>10501</td>\n",
       "      <td>NaN</td>\n",
       "      <td>14976</td>\n",
       "      <td>4140</td>\n",
       "      <td>13193</td>\n",
       "      <td>27816</td>\n",
       "      <td>21790</td>\n",
       "      <td>NaN</td>\n",
       "      <td>NaN</td>\n",
       "      <td>NaN</td>\n",
       "      <td>29170</td>\n",
       "      <td>24720</td>\n",
       "    </tr>\n",
       "    <tr>\n",
       "      <th>mean</th>\n",
       "      <td>38.581647</td>\n",
       "      <td>NaN</td>\n",
       "      <td>1.897784e+05</td>\n",
       "      <td>NaN</td>\n",
       "      <td>10.080679</td>\n",
       "      <td>NaN</td>\n",
       "      <td>NaN</td>\n",
       "      <td>NaN</td>\n",
       "      <td>NaN</td>\n",
       "      <td>NaN</td>\n",
       "      <td>1077.648844</td>\n",
       "      <td>87.303830</td>\n",
       "      <td>40.437456</td>\n",
       "      <td>NaN</td>\n",
       "      <td>NaN</td>\n",
       "    </tr>\n",
       "    <tr>\n",
       "      <th>std</th>\n",
       "      <td>13.640433</td>\n",
       "      <td>NaN</td>\n",
       "      <td>1.055500e+05</td>\n",
       "      <td>NaN</td>\n",
       "      <td>2.572720</td>\n",
       "      <td>NaN</td>\n",
       "      <td>NaN</td>\n",
       "      <td>NaN</td>\n",
       "      <td>NaN</td>\n",
       "      <td>NaN</td>\n",
       "      <td>7385.292085</td>\n",
       "      <td>402.960219</td>\n",
       "      <td>12.347429</td>\n",
       "      <td>NaN</td>\n",
       "      <td>NaN</td>\n",
       "    </tr>\n",
       "    <tr>\n",
       "      <th>min</th>\n",
       "      <td>17.000000</td>\n",
       "      <td>NaN</td>\n",
       "      <td>1.228500e+04</td>\n",
       "      <td>NaN</td>\n",
       "      <td>1.000000</td>\n",
       "      <td>NaN</td>\n",
       "      <td>NaN</td>\n",
       "      <td>NaN</td>\n",
       "      <td>NaN</td>\n",
       "      <td>NaN</td>\n",
       "      <td>0.000000</td>\n",
       "      <td>0.000000</td>\n",
       "      <td>1.000000</td>\n",
       "      <td>NaN</td>\n",
       "      <td>NaN</td>\n",
       "    </tr>\n",
       "    <tr>\n",
       "      <th>25%</th>\n",
       "      <td>28.000000</td>\n",
       "      <td>NaN</td>\n",
       "      <td>1.178270e+05</td>\n",
       "      <td>NaN</td>\n",
       "      <td>9.000000</td>\n",
       "      <td>NaN</td>\n",
       "      <td>NaN</td>\n",
       "      <td>NaN</td>\n",
       "      <td>NaN</td>\n",
       "      <td>NaN</td>\n",
       "      <td>0.000000</td>\n",
       "      <td>0.000000</td>\n",
       "      <td>40.000000</td>\n",
       "      <td>NaN</td>\n",
       "      <td>NaN</td>\n",
       "    </tr>\n",
       "    <tr>\n",
       "      <th>50%</th>\n",
       "      <td>37.000000</td>\n",
       "      <td>NaN</td>\n",
       "      <td>1.783560e+05</td>\n",
       "      <td>NaN</td>\n",
       "      <td>10.000000</td>\n",
       "      <td>NaN</td>\n",
       "      <td>NaN</td>\n",
       "      <td>NaN</td>\n",
       "      <td>NaN</td>\n",
       "      <td>NaN</td>\n",
       "      <td>0.000000</td>\n",
       "      <td>0.000000</td>\n",
       "      <td>40.000000</td>\n",
       "      <td>NaN</td>\n",
       "      <td>NaN</td>\n",
       "    </tr>\n",
       "    <tr>\n",
       "      <th>75%</th>\n",
       "      <td>48.000000</td>\n",
       "      <td>NaN</td>\n",
       "      <td>2.370510e+05</td>\n",
       "      <td>NaN</td>\n",
       "      <td>12.000000</td>\n",
       "      <td>NaN</td>\n",
       "      <td>NaN</td>\n",
       "      <td>NaN</td>\n",
       "      <td>NaN</td>\n",
       "      <td>NaN</td>\n",
       "      <td>0.000000</td>\n",
       "      <td>0.000000</td>\n",
       "      <td>45.000000</td>\n",
       "      <td>NaN</td>\n",
       "      <td>NaN</td>\n",
       "    </tr>\n",
       "    <tr>\n",
       "      <th>max</th>\n",
       "      <td>90.000000</td>\n",
       "      <td>NaN</td>\n",
       "      <td>1.484705e+06</td>\n",
       "      <td>NaN</td>\n",
       "      <td>16.000000</td>\n",
       "      <td>NaN</td>\n",
       "      <td>NaN</td>\n",
       "      <td>NaN</td>\n",
       "      <td>NaN</td>\n",
       "      <td>NaN</td>\n",
       "      <td>99999.000000</td>\n",
       "      <td>4356.000000</td>\n",
       "      <td>99.000000</td>\n",
       "      <td>NaN</td>\n",
       "      <td>NaN</td>\n",
       "    </tr>\n",
       "  </tbody>\n",
       "</table>\n",
       "</div>"
      ],
      "text/plain": [
       "                 Age Workclass        fnlwgt education  education_nu  \\\n",
       "count   32561.000000     32561  3.256100e+04     32561  32561.000000   \n",
       "unique           NaN         9           NaN        16           NaN   \n",
       "top              NaN   Private           NaN   HS-grad           NaN   \n",
       "freq             NaN     22696           NaN     10501           NaN   \n",
       "mean       38.581647       NaN  1.897784e+05       NaN     10.080679   \n",
       "std        13.640433       NaN  1.055500e+05       NaN      2.572720   \n",
       "min        17.000000       NaN  1.228500e+04       NaN      1.000000   \n",
       "25%        28.000000       NaN  1.178270e+05       NaN      9.000000   \n",
       "50%        37.000000       NaN  1.783560e+05       NaN     10.000000   \n",
       "75%        48.000000       NaN  2.370510e+05       NaN     12.000000   \n",
       "max        90.000000       NaN  1.484705e+06       NaN     16.000000   \n",
       "\n",
       "             marital status       occupation relationship    race    sex  \\\n",
       "count                 32561            32561        32561   32561  32561   \n",
       "unique                    7               15            6       5      2   \n",
       "top      Married-civ-spouse   Prof-specialty      Husband   White   Male   \n",
       "freq                  14976             4140        13193   27816  21790   \n",
       "mean                    NaN              NaN          NaN     NaN    NaN   \n",
       "std                     NaN              NaN          NaN     NaN    NaN   \n",
       "min                     NaN              NaN          NaN     NaN    NaN   \n",
       "25%                     NaN              NaN          NaN     NaN    NaN   \n",
       "50%                     NaN              NaN          NaN     NaN    NaN   \n",
       "75%                     NaN              NaN          NaN     NaN    NaN   \n",
       "max                     NaN              NaN          NaN     NaN    NaN   \n",
       "\n",
       "        capital_gain  capital_loss  hours_per_week  native_country  salary  \n",
       "count   32561.000000  32561.000000    32561.000000           32561   32561  \n",
       "unique           NaN           NaN             NaN              42       2  \n",
       "top              NaN           NaN             NaN   United-States   <=50K  \n",
       "freq             NaN           NaN             NaN           29170   24720  \n",
       "mean     1077.648844     87.303830       40.437456             NaN     NaN  \n",
       "std      7385.292085    402.960219       12.347429             NaN     NaN  \n",
       "min         0.000000      0.000000        1.000000             NaN     NaN  \n",
       "25%         0.000000      0.000000       40.000000             NaN     NaN  \n",
       "50%         0.000000      0.000000       40.000000             NaN     NaN  \n",
       "75%         0.000000      0.000000       45.000000             NaN     NaN  \n",
       "max     99999.000000   4356.000000       99.000000             NaN     NaN  "
      ]
     },
     "execution_count": 8,
     "metadata": {},
     "output_type": "execute_result"
    }
   ],
   "source": [
    "dataset.describe(include='all')"
   ]
  },
  {
   "cell_type": "code",
   "execution_count": 9,
   "metadata": {},
   "outputs": [
    {
     "data": {
      "text/html": [
       "<div>\n",
       "<style scoped>\n",
       "    .dataframe tbody tr th:only-of-type {\n",
       "        vertical-align: middle;\n",
       "    }\n",
       "\n",
       "    .dataframe tbody tr th {\n",
       "        vertical-align: top;\n",
       "    }\n",
       "\n",
       "    .dataframe thead th {\n",
       "        text-align: right;\n",
       "    }\n",
       "</style>\n",
       "<table border=\"1\" class=\"dataframe\">\n",
       "  <thead>\n",
       "    <tr style=\"text-align: right;\">\n",
       "      <th></th>\n",
       "      <th>Workclass</th>\n",
       "      <th>education</th>\n",
       "      <th>marital status</th>\n",
       "      <th>occupation</th>\n",
       "      <th>relationship</th>\n",
       "      <th>race</th>\n",
       "      <th>sex</th>\n",
       "      <th>native_country</th>\n",
       "      <th>salary</th>\n",
       "    </tr>\n",
       "  </thead>\n",
       "  <tbody>\n",
       "    <tr>\n",
       "      <th>count</th>\n",
       "      <td>32561</td>\n",
       "      <td>32561</td>\n",
       "      <td>32561</td>\n",
       "      <td>32561</td>\n",
       "      <td>32561</td>\n",
       "      <td>32561</td>\n",
       "      <td>32561</td>\n",
       "      <td>32561</td>\n",
       "      <td>32561</td>\n",
       "    </tr>\n",
       "    <tr>\n",
       "      <th>unique</th>\n",
       "      <td>9</td>\n",
       "      <td>16</td>\n",
       "      <td>7</td>\n",
       "      <td>15</td>\n",
       "      <td>6</td>\n",
       "      <td>5</td>\n",
       "      <td>2</td>\n",
       "      <td>42</td>\n",
       "      <td>2</td>\n",
       "    </tr>\n",
       "    <tr>\n",
       "      <th>top</th>\n",
       "      <td>Private</td>\n",
       "      <td>HS-grad</td>\n",
       "      <td>Married-civ-spouse</td>\n",
       "      <td>Prof-specialty</td>\n",
       "      <td>Husband</td>\n",
       "      <td>White</td>\n",
       "      <td>Male</td>\n",
       "      <td>United-States</td>\n",
       "      <td>&lt;=50K</td>\n",
       "    </tr>\n",
       "    <tr>\n",
       "      <th>freq</th>\n",
       "      <td>22696</td>\n",
       "      <td>10501</td>\n",
       "      <td>14976</td>\n",
       "      <td>4140</td>\n",
       "      <td>13193</td>\n",
       "      <td>27816</td>\n",
       "      <td>21790</td>\n",
       "      <td>29170</td>\n",
       "      <td>24720</td>\n",
       "    </tr>\n",
       "  </tbody>\n",
       "</table>\n",
       "</div>"
      ],
      "text/plain": [
       "       Workclass education       marital status       occupation relationship  \\\n",
       "count      32561     32561                32561            32561        32561   \n",
       "unique         9        16                    7               15            6   \n",
       "top      Private   HS-grad   Married-civ-spouse   Prof-specialty      Husband   \n",
       "freq       22696     10501                14976             4140        13193   \n",
       "\n",
       "          race    sex  native_country  salary  \n",
       "count    32561  32561           32561   32561  \n",
       "unique       5      2              42       2  \n",
       "top      White   Male   United-States   <=50K  \n",
       "freq     27816  21790           29170   24720  "
      ]
     },
     "execution_count": 9,
     "metadata": {},
     "output_type": "execute_result"
    }
   ],
   "source": [
    "dataset.describe(include='O')"
   ]
  },
  {
   "cell_type": "code",
   "execution_count": 10,
   "metadata": {},
   "outputs": [],
   "source": [
    "null_columns = dataset.columns[dataset.isnull().any()]"
   ]
  },
  {
   "cell_type": "code",
   "execution_count": 11,
   "metadata": {},
   "outputs": [
    {
     "data": {
      "text/plain": [
       "Index([], dtype='object')"
      ]
     },
     "execution_count": 11,
     "metadata": {},
     "output_type": "execute_result"
    }
   ],
   "source": [
    "null_columns"
   ]
  },
  {
   "cell_type": "code",
   "execution_count": 12,
   "metadata": {},
   "outputs": [],
   "source": [
    "def detect_outlier_row(data_1):\n",
    "    \n",
    "    threshold=3\n",
    "    mean_1 = np.mean(data_1)\n",
    "    std_1 =np.std(data_1)\n",
    "    outlier_data=[]\n",
    "    outlier_row=[]\n",
    "    \n",
    "    for i in range(len(data_1)):\n",
    "        z_score= (data_1[i] - mean_1)/std_1 \n",
    "        if np.abs(z_score) > threshold:\n",
    "            outlier_data.append(data_1[i])\n",
    "            outlier_row.append(i)\n",
    "            \n",
    "           \n",
    "            \n",
    "    return outlier_data, outlier_row"
   ]
  },
  {
   "cell_type": "code",
   "execution_count": 13,
   "metadata": {},
   "outputs": [
    {
     "name": "stdout",
     "output_type": "stream",
     "text": [
      "Outlier Column Name Age Outlier Row numbers- [222, 430, 918, 1040, 1168, 1935, 2303, 2754, 2891, 2906, 3211, 3537, 3777, 3963, 4070, 4109, 4834, 5104, 5272, 5291, 5370, 5406, 6214, 6232, 6439, 6624, 6748, 7481, 7720, 7872, 8381, 8431, 8694, 8806, 8963, 8973, 9471, 10124, 10210, 10545, 11238, 11512, 11731, 11996, 12451, 12492, 12830, 12975, 13025, 13295, 13696, 13928, 14104, 14159, 14604, 14711, 14756, 15356, 15662, 15892, 16302, 16762, 16901, 18037, 18272, 18277, 18413, 18560, 18725, 18832, 19045, 19172, 19180, 19212, 19489, 19495, 19515, 19689, 19747, 20249, 20421, 20463, 20482, 20610, 20826, 20953, 21501, 21812, 21835, 22220, 22481, 22895, 22898, 23459, 24027, 24043, 24238, 24280, 24395, 24560, 25303, 25397, 26012, 26731, 27795, 28463, 28721, 28948, 29594, 29724, 31030, 31432, 31696, 31814, 31836, 31855, 32277, 32367, 32459, 32494, 32525]\n",
      " Outlier data - [90, 80, 81, 90, 88, 90, 90, 80, 90, 81, 82, 81, 80, 83, 90, 90, 81, 90, 90, 80, 90, 90, 84, 90, 80, 90, 81, 83, 84, 81, 85, 82, 80, 90, 90, 90, 84, 80, 90, 90, 84, 90, 90, 90, 90, 82, 81, 90, 84, 81, 82, 81, 80, 90, 80, 84, 82, 90, 84, 90, 83, 81, 80, 80, 80, 90, 90, 80, 90, 90, 81, 83, 82, 90, 90, 81, 80, 80, 90, 80, 82, 85, 80, 90, 81, 80, 81, 82, 88, 90, 82, 88, 84, 83, 86, 90, 90, 82, 83, 81, 90, 80, 81, 84, 84, 90, 80, 81, 81, 81, 90, 87, 90, 80, 80, 82, 90, 90, 85, 82, 81]\n",
      "Outlier Column Name fnlwgt Outlier Row numbers- [37, 40, 182, 192, 215, 230, 312, 414, 508, 651, 827, 914, 963, 1012, 1151, 1291, 1314, 1454, 1597, 1847, 1883, 1971, 2065, 2342, 2347, 2369, 2399, 2675, 2760, 2770, 2824, 2850, 2900, 2936, 2977, 3193, 3303, 3409, 3502, 3569, 3571, 3612, 3719, 3738, 3744, 3747, 3870, 3906, 3964, 3983, 4060, 4124, 4278, 4573, 4697, 4729, 4973, 5278, 5350, 5369, 5423, 5505, 5530, 5553, 5622, 5727, 6018, 6144, 6167, 6218, 6258, 6287, 6649, 6702, 6732, 6783, 6852, 6879, 7121, 7157, 7332, 7351, 7455, 7504, 7663, 7719, 7934, 8036, 8237, 8258, 8276, 8345, 8433, 8485, 8489, 8505, 8555, 8658, 8729, 8921, 8998, 9018, 9046, 9248, 9322, 9355, 9616, 9700, 9715, 9736, 9748, 9754, 9756, 9800, 9810, 10007, 10400, 10442, 10719, 10914, 11056, 11328, 11336, 11461, 11695, 11836, 11884, 11977, 12028, 12060, 12078, 12263, 12332, 12381, 12387, 12486, 12511, 12702, 12760, 12831, 12847, 12899, 12966, 13017, 13094, 13109, 13117, 13146, 13187, 13230, 13240, 13307, 13368, 13679, 14051, 14161, 14414, 14449, 14773, 14793, 14840, 15044, 15087, 15154, 15204, 15342, 15350, 15509, 15569, 15715, 15728, 15736, 15899, 15953, 15957, 16200, 16671, 16739, 16991, 17184, 17296, 17342, 17389, 17425, 17436, 17535, 17696, 17715, 17743, 17783, 18138, 18142, 18194, 18239, 18275, 18314, 18630, 18764, 18859, 18860, 18874, 18989, 19007, 19169, 19224, 19252, 19317, 19630, 19652, 19689, 19873, 20254, 20294, 20318, 20488, 20531, 20536, 20596, 20961, 21025, 21082, 21293, 21386, 21478, 21521, 21790, 21804, 21953, 21961, 21969, 22082, 22140, 22248, 22423, 22570, 22653, 22831, 22860, 22932, 22992, 23032, 23153, 23156, 23179, 23373, 23432, 23523, 23600, 23639, 23663, 23767, 23805, 23817, 23883, 23903, 23934, 24016, 24090, 24096, 24099, 24200, 24353, 24521, 24531, 24558, 24563, 25075, 25548, 25803, 25851, 25938, 26186, 26226, 26274, 26504, 26573, 26773, 26790, 26880, 26959, 27039, 27167, 27233, 27295, 27365, 27551, 27577, 27608, 27682, 27831, 27915, 27973, 28044, 28108, 28154, 28221, 28345, 28424, 28574, 28596, 28641, 28722, 28745, 28896, 28957, 29077, 29093, 29150, 29164, 29322, 29347, 29407, 29431, 29437, 29485, 29599, 29629, 29695, 29892, 29914, 29917, 30063, 30116, 30117, 30294, 30360, 30373, 30498, 30718, 30760, 30806, 30831, 30932, 31116, 31274, 31275, 31390, 31428, 31436, 31675, 31762, 31792, 31811, 32035, 32205, 32208, 32511]\n",
      " Outlier data - [544091, 507875, 633742, 523910, 635913, 538583, 860348, 1033222, 543162, 556660, 680390, 543028, 526968, 767403, 520586, 795830, 509350, 563883, 910398, 538319, 508336, 672412, 549430, 519627, 675421, 758700, 509364, 509364, 656036, 566117, 548510, 545483, 573583, 511361, 716416, 637222, 664821, 598606, 572751, 580248, 519006, 617021, 596776, 588905, 517995, 640383, 611029, 549341, 746786, 550848, 510072, 511331, 656036, 688355, 587310, 628797, 632613, 516337, 571853, 1184622, 913447, 632593, 595000, 703067, 749105, 543922, 549349, 562558, 642830, 523095, 704108, 557082, 506858, 537222, 595000, 577521, 604506, 564135, 512103, 716066, 525878, 538443, 528616, 515025, 659273, 541737, 972354, 608184, 586657, 1226583, 664670, 561334, 791084, 917220, 508548, 511289, 512992, 637080, 671292, 517000, 548361, 648223, 522881, 745768, 523067, 508891, 647882, 569761, 585203, 539563, 1038553, 567788, 732569, 721161, 509629, 553473, 560804, 528616, 607848, 514033, 558183, 541282, 518030, 548580, 526528, 586657, 581071, 575442, 554986, 592930, 632834, 849857, 558944, 691903, 684015, 530099, 554317, 695136, 698418, 526968, 548303, 529216, 526164, 506436, 734193, 737315, 544686, 548361, 556652, 691830, 520775, 607799, 660870, 532379, 529104, 680390, 857532, 1484705, 755858, 523484, 654141, 930948, 664366, 515629, 606111, 509364, 634226, 568490, 1268339, 698363, 617860, 615893, 565313, 591711, 520231, 536725, 511517, 1366120, 593246, 529223, 651396, 517036, 529216, 526734, 543042, 631947, 540712, 549174, 806552, 604537, 1455435, 659504, 556688, 750972, 607848, 548256, 552354, 561489, 578377, 509500, 889965, 507086, 659558, 609935, 521400, 608184, 513660, 615367, 557236, 562336, 520078, 660461, 533147, 617898, 953588, 609789, 598995, 609789, 663394, 530454, 543477, 556902, 732102, 548256, 709445, 609789, 570821, 636017, 703107, 544792, 595088, 607848, 527162, 566049, 602513, 509060, 520033, 554206, 520759, 694812, 578701, 549413, 598802, 511289, 806316, 541343, 1033222, 599629, 571017, 738812, 618191, 544268, 557853, 535978, 668319, 682947, 574271, 816750, 597843, 595461, 553405, 704108, 515712, 551962, 572751, 745817, 1161363, 673764, 588484, 809585, 574271, 594187, 509462, 548664, 558490, 509048, 653574, 706026, 511068, 513416, 535978, 721712, 615367, 549174, 1097453, 515797, 510072, 570562, 1085515, 511668, 521665, 548361, 591711, 518530, 594187, 509866, 695411, 761006, 506830, 574005, 604045, 605502, 589809, 588003, 509629, 709798, 561334, 570002, 1125613, 532845, 604380, 583755, 510072, 557349, 609789, 557644, 706180, 606752, 673764, 547886, 554206, 584790, 799281, 657397, 512771, 512828, 531055, 653574, 745768, 857532, 715938, 747719, 569930, 585361, 543922, 766115, 584259, 538822, 542265, 749636, 668362, 981628, 746432, 566537, 693066, 539864, 514716]\n",
      "Outlier Column Name education_nu Outlier Row numbers- [160, 221, 224, 416, 463, 486, 536, 929, 932, 1139, 1291, 1634, 1913, 2581, 2584, 2671, 2817, 2861, 2884, 2946, 3232, 3446, 3592, 3941, 4107, 4303, 4326, 4524, 4718, 5065, 5090, 5510, 5665, 5734, 5741, 5834, 5842, 5877, 5958, 6433, 6864, 7070, 7173, 7300, 7319, 7730, 7739, 7850, 7894, 8080, 8088, 8096, 8211, 8310, 8498, 8753, 8775, 8886, 8887, 9000, 9018, 9658, 9757, 9839, 9998, 10264, 10310, 10345, 10559, 10714, 10971, 11134, 11294, 11297, 11360, 11734, 11837, 11874, 11982, 12118, 12424, 12619, 12783, 13084, 13248, 13295, 13330, 13542, 13600, 13664, 13682, 13759, 14084, 14246, 14327, 14877, 15008, 15059, 15176, 15251, 15574, 15837, 16076, 16103, 16451, 16497, 16562, 16957, 17021, 17384, 17445, 17753, 17795, 18386, 18415, 18854, 18905, 18972, 19045, 19112, 19179, 19408, 19561, 19576, 20015, 20171, 20440, 20509, 21048, 21097, 21370, 21388, 21509, 21636, 21722, 21794, 21871, 21906, 22167, 22300, 22348, 22512, 22531, 22571, 22940, 23012, 23125, 23510, 23615, 23929, 24175, 24238, 24422, 24558, 24698, 24970, 25100, 25113, 25227, 25547, 25652, 25761, 25943, 26187, 26430, 26501, 26606, 26774, 26897, 26995, 27072, 27152, 27193, 27239, 27531, 27845, 28008, 28015, 28056, 28132, 28218, 28248, 28395, 28507, 28597, 28775, 29322, 29413, 29418, 29442, 29457, 29594, 29685, 29746, 29855, 29876, 30558, 30804, 30841, 30856, 30857, 31088, 31141, 31242, 31376, 31518, 31762, 31798, 31865, 31873, 32008, 32035, 32044, 32224, 32306, 32359, 32403, 32425, 32432]\n",
      " Outlier data - [2, 2, 1, 2, 2, 2, 2, 2, 1, 2, 2, 2, 2, 2, 2, 2, 2, 2, 1, 1, 2, 1, 1, 2, 1, 2, 2, 2, 2, 2, 2, 2, 2, 2, 2, 2, 2, 2, 2, 1, 1, 1, 1, 2, 2, 2, 2, 2, 1, 1, 1, 1, 2, 2, 2, 2, 1, 2, 2, 2, 2, 2, 2, 2, 2, 2, 1, 2, 2, 2, 2, 1, 2, 2, 1, 1, 2, 2, 2, 2, 2, 2, 2, 2, 1, 2, 2, 2, 2, 2, 2, 2, 2, 2, 2, 2, 2, 1, 2, 2, 2, 2, 2, 2, 2, 1, 1, 2, 2, 2, 2, 2, 2, 2, 1, 2, 2, 2, 2, 2, 2, 2, 2, 2, 2, 2, 1, 2, 2, 2, 1, 1, 2, 2, 1, 1, 2, 2, 1, 2, 2, 2, 1, 2, 1, 2, 2, 2, 2, 2, 1, 2, 2, 1, 1, 2, 1, 1, 1, 2, 1, 2, 1, 2, 2, 1, 1, 2, 2, 2, 2, 1, 2, 1, 2, 2, 2, 2, 2, 2, 2, 2, 1, 2, 2, 2, 2, 2, 2, 2, 2, 2, 2, 2, 2, 2, 2, 2, 2, 2, 2, 2, 2, 2, 2, 2, 2, 1, 2, 2, 2, 1, 2, 1, 2, 1, 2, 2, 1]\n"
     ]
    },
    {
     "name": "stdout",
     "output_type": "stream",
     "text": [
      "Outlier Column Name capital_gain Outlier Row numbers- [106, 704, 1246, 1368, 1482, 1528, 1562, 1616, 1682, 1764, 1765, 1771, 1826, 2103, 2319, 2361, 2707, 3105, 3175, 3368, 3836, 4322, 4389, 4421, 4568, 4625, 4656, 4898, 5000, 5098, 5184, 5473, 5588, 5909, 6002, 6035, 6225, 6420, 6433, 6519, 6524, 6535, 6595, 6621, 6751, 7090, 7186, 7347, 7385, 7517, 7553, 7572, 7629, 7745, 8442, 8476, 8710, 8740, 8742, 9184, 9227, 9228, 9559, 9673, 9760, 10114, 10366, 10661, 10771, 10848, 10962, 10964, 11343, 11485, 11826, 11976, 12062, 12093, 12141, 12533, 12539, 12655, 12677, 12909, 13422, 13455, 13499, 13505, 13997, 14117, 14238, 14302, 14579, 14583, 14827, 15100, 15279, 15376, 15604, 15737, 15904, 16079, 16174, 16422, 16516, 16740, 17039, 17330, 17538, 17644, 17665, 17789, 17809, 18080, 18126, 18315, 18408, 18463, 18654, 18847, 18882, 19080, 19084, 19133, 19438, 19740, 19807, 19900, 19945, 20055, 20176, 20243, 20283, 20613, 20702, 20987, 21188, 21482, 21489, 21540, 21855, 21862, 21892, 21992, 22275, 22317, 22361, 22385, 22462, 22749, 22811, 23087, 23467, 23678, 23999, 24008, 24015, 24067, 24105, 24200, 24285, 24295, 24297, 24510, 24638, 24673, 24850, 24983, 25178, 25311, 25372, 25611, 25633, 25634, 25841, 26083, 26110, 26346, 26414, 26442, 26593, 26825, 27077, 27221, 27240, 27358, 27413, 27490, 27635, 27640, 27655, 27859, 28054, 28172, 28214, 28264, 28294, 28318, 28349, 29558, 29635, 29664, 29806, 29892, 30244, 30496, 30815, 30913, 31111, 31828, 31972, 32090, 32238, 32370, 32518]\n",
      " Outlier data - [34095, 25236, 99999, 99999, 99999, 99999, 25124, 99999, 99999, 27828, 99999, 99999, 99999, 99999, 99999, 99999, 99999, 99999, 99999, 99999, 99999, 27828, 99999, 99999, 34095, 99999, 99999, 99999, 27828, 99999, 99999, 99999, 99999, 27828, 99999, 99999, 99999, 27828, 41310, 25236, 99999, 27828, 25236, 27828, 99999, 99999, 34095, 99999, 27828, 99999, 99999, 99999, 99999, 99999, 99999, 99999, 99999, 99999, 99999, 99999, 27828, 99999, 27828, 99999, 99999, 25236, 99999, 99999, 99999, 99999, 99999, 99999, 27828, 99999, 25236, 99999, 99999, 99999, 99999, 99999, 99999, 99999, 99999, 99999, 99999, 99999, 99999, 27828, 99999, 99999, 99999, 27828, 99999, 27828, 99999, 99999, 99999, 34095, 99999, 99999, 99999, 99999, 99999, 99999, 27828, 99999, 34095, 99999, 99999, 99999, 99999, 99999, 27828, 99999, 99999, 99999, 99999, 99999, 99999, 25124, 99999, 99999, 99999, 99999, 99999, 27828, 99999, 99999, 27828, 99999, 41310, 27828, 99999, 99999, 27828, 99999, 99999, 27828, 99999, 25236, 25236, 25236, 25124, 99999, 99999, 99999, 99999, 99999, 25124, 99999, 99999, 99999, 99999, 99999, 99999, 99999, 27828, 99999, 99999, 99999, 99999, 99999, 25236, 99999, 99999, 99999, 99999, 99999, 99999, 27828, 99999, 99999, 99999, 27828, 99999, 99999, 27828, 25236, 99999, 99999, 99999, 99999, 99999, 99999, 27828, 99999, 99999, 27828, 99999, 99999, 27828, 27828, 99999, 25236, 99999, 99999, 99999, 99999, 99999, 27828, 99999, 27828, 99999, 27828, 99999, 99999, 27828, 99999, 99999, 99999, 99999, 99999, 99999, 27828, 99999]\n",
      "Outlier Column Name capital_loss Outlier Row numbers- [23, 32, 52, 93, 96, 112, 126, 131, 143, 148, 157, 170, 172, 200, 203, 222, 244, 248, 321, 327, 363, 381, 387, 404, 405, 408, 426, 434, 468, 510, 573, 588, 597, 668, 669, 697, 701, 721, 732, 781, 786, 799, 801, 824, 873, 937, 947, 972, 990, 1001, 1031, 1035, 1049, 1058, 1066, 1071, 1073, 1076, 1098, 1102, 1115, 1164, 1230, 1254, 1266, 1276, 1280, 1295, 1355, 1387, 1391, 1392, 1429, 1440, 1444, 1466, 1486, 1497, 1518, 1524, 1541, 1548, 1571, 1621, 1628, 1660, 1685, 1687, 1695, 1709, 1737, 1777, 1816, 1841, 1900, 1915, 1926, 1927, 1945, 2010, 2014, 2017, 2030, 2048, 2063, 2095, 2106, 2112, 2116, 2153, 2240, 2259, 2272, 2275, 2290, 2304, 2325, 2330, 2334, 2379, 2382, 2392, 2395, 2396, 2414, 2420, 2421, 2426, 2468, 2473, 2501, 2527, 2607, 2630, 2735, 2743, 2756, 2775, 2784, 2796, 2813, 2833, 2841, 2843, 2859, 2901, 2904, 2925, 2935, 2951, 3021, 3024, 3027, 3031, 3045, 3085, 3091, 3092, 3101, 3106, 3125, 3137, 3143, 3206, 3212, 3221, 3225, 3249, 3257, 3260, 3319, 3326, 3343, 3351, 3488, 3543, 3552, 3574, 3575, 3583, 3602, 3629, 3639, 3655, 3691, 3697, 3709, 3724, 3755, 3777, 3786, 3831, 3850, 3860, 3862, 3893, 3900, 3905, 3951, 3956, 3966, 3968, 3997, 4018, 4031, 4075, 4078, 4091, 4097, 4131, 4137, 4172, 4177, 4201, 4245, 4267, 4285, 4305, 4374, 4376, 4380, 4398, 4465, 4471, 4481, 4559, 4571, 4632, 4717, 4726, 4742, 4764, 4768, 4784, 4805, 4810, 4840, 4864, 4865, 4874, 4897, 4899, 4903, 4938, 4953, 4967, 4972, 5001, 5024, 5033, 5044, 5053, 5106, 5123, 5137, 5144, 5190, 5197, 5202, 5238, 5267, 5298, 5305, 5309, 5355, 5393, 5397, 5410, 5417, 5419, 5425, 5592, 5602, 5658, 5661, 5669, 5713, 5764, 5777, 5849, 5927, 5946, 5957, 5965, 5979, 6082, 6096, 6101, 6125, 6141, 6213, 6217, 6220, 6236, 6278, 6289, 6303, 6304, 6337, 6375, 6383, 6387, 6418, 6421, 6457, 6475, 6538, 6541, 6564, 6580, 6581, 6588, 6637, 6639, 6664, 6665, 6669, 6723, 6730, 6739, 6740, 6760, 6769, 6804, 6908, 6935, 6936, 6991, 7019, 7035, 7047, 7085, 7096, 7113, 7129, 7143, 7148, 7177, 7194, 7202, 7223, 7238, 7291, 7315, 7362, 7371, 7393, 7423, 7432, 7452, 7461, 7469, 7475, 7499, 7501, 7503, 7589, 7593, 7610, 7638, 7643, 7651, 7687, 7698, 7756, 7789, 7796, 7813, 7842, 7867, 7870, 7894, 7965, 7966, 7983, 7984, 8002, 8036, 8042, 8083, 8097, 8102, 8104, 8144, 8173, 8181, 8191, 8211, 8218, 8256, 8270, 8282, 8289, 8321, 8327, 8373, 8392, 8402, 8407, 8473, 8500, 8530, 8541, 8546, 8569, 8610, 8620, 8632, 8678, 8680, 8712, 8737, 8788, 8798, 8821, 8883, 8906, 8912, 8963, 8988, 9000, 9013, 9040, 9086, 9129, 9142, 9151, 9166, 9173, 9198, 9218, 9225, 9235, 9237, 9252, 9275, 9292, 9306, 9309, 9378, 9397, 9406, 9407, 9438, 9439, 9474, 9503, 9519, 9631, 9632, 9676, 9717, 9766, 9847, 9858, 9860, 9865, 9868, 9873, 9978, 10035, 10041, 10063, 10209, 10241, 10248, 10263, 10268, 10269, 10277, 10289, 10343, 10461, 10482, 10485, 10487, 10498, 10499, 10500, 10502, 10544, 10564, 10576, 10599, 10612, 10616, 10627, 10633, 10659, 10727, 10741, 10756, 10879, 10882, 10938, 10965, 10986, 11003, 11007, 11023, 11042, 11047, 11066, 11069, 11077, 11080, 11091, 11093, 11107, 11120, 11126, 11128, 11171, 11185, 11204, 11212, 11226, 11229, 11230, 11245, 11255, 11270, 11284, 11314, 11321, 11325, 11336, 11363, 11379, 11384, 11393, 11410, 11492, 11498, 11525, 11530, 11578, 11580, 11586, 11644, 11673, 11708, 11717, 11729, 11733, 11741, 11760, 11779, 11797, 11798, 11902, 11904, 11920, 11931, 11954, 11955, 11981, 11993, 12031, 12049, 12050, 12055, 12119, 12120, 12148, 12155, 12165, 12173, 12174, 12177, 12194, 12276, 12299, 12316, 12374, 12376, 12394, 12412, 12415, 12435, 12447, 12486, 12512, 12573, 12583, 12584, 12589, 12594, 12595, 12600, 12693, 12746, 12771, 12793, 12807, 12846, 12875, 12882, 12896, 12937, 12979, 13018, 13068, 13132, 13186, 13194, 13209, 13235, 13236, 13262, 13328, 13337, 13366, 13407, 13410, 13436, 13454, 13479, 13506, 13521, 13527, 13535, 13547, 13619, 13631, 13660, 13691, 13722, 13748, 13749, 13754, 13763, 13779, 13790, 13796, 13827, 13836, 13840, 13854, 13895, 13905, 13928, 13945, 13960, 13975, 13995, 14066, 14096, 14148, 14220, 14224, 14227, 14259, 14277, 14294, 14304, 14314, 14390, 14406, 14408, 14467, 14531, 14533, 14537, 14555, 14573, 14617, 14718, 14747, 14753, 14756, 14781, 14795, 14819, 14833, 14834, 14838, 14864, 14868, 14987, 14988, 14990, 15036, 15075, 15113, 15172, 15239, 15253, 15258, 15262, 15274, 15307, 15311, 15330, 15427, 15450, 15466, 15481, 15489, 15525, 15558, 15562, 15576, 15591, 15608, 15620, 15625, 15630, 15669, 15684, 15691, 15702, 15703, 15706, 15731, 15787, 15792, 15804, 15832, 15856, 15902, 15907, 15913, 15914, 15928, 15942, 15945, 15977, 16025, 16087, 16110, 16138, 16139, 16153, 16165, 16176, 16205, 16224, 16271, 16288, 16306, 16320, 16344, 16362, 16404, 16455, 16505, 16535, 16578, 16585, 16593, 16603, 16608, 16631, 16649, 16660, 16669, 16716, 16721, 16741, 16788, 16792, 16797, 16806, 16810, 16818, 16827, 16876, 16960, 17000, 17028, 17051, 17054, 17110, 17116, 17140, 17193, 17205, 17228, 17229, 17254, 17264, 17269, 17283, 17289, 17296, 17316, 17346, 17368, 17382, 17388, 17397, 17404, 17482, 17490, 17500, 17540, 17627, 17650, 17678, 17682, 17685, 17689, 17696, 17734, 17755, 17769, 17771, 17804, 17806, 17820, 17826, 17834, 17870, 17897, 17945, 17949, 17971, 17975, 18009, 18013, 18015, 18036, 18068, 18070, 18076, 18113, 18133, 18144, 18146, 18149, 18183, 18185, 18309, 18326, 18328, 18364, 18372, 18380, 18396, 18412, 18418, 18421, 18453, 18527, 18545, 18591, 18601, 18658, 18678, 18702, 18707, 18712, 18729, 18773, 18776, 18797, 18808, 18818, 18848, 18852, 18858, 18871, 18910, 18913, 18980, 18991, 19016, 19090, 19140, 19166, 19211, 19219, 19221, 19236, 19309, 19333, 19346, 19356, 19363, 19391, 19393, 19448, 19450, 19459, 19483, 19487, 19511, 19531, 19535, 19543, 19563, 19591, 19608, 19609, 19646, 19654, 19655, 19701, 19709, 19749, 19777, 19810, 19833, 19852, 19896, 19897, 19901, 19942, 19952, 19968, 20093, 20102, 20148, 20191, 20198, 20199, 20207, 20213, 20241, 20290, 20298, 20301, 20310, 20416, 20417, 20426, 20435, 20439, 20444, 20456, 20465, 20485, 20512, 20513, 20541, 20568, 20579, 20606, 20703, 20725, 20736, 20756, 20764, 20770, 20850, 20853, 20870, 20879, 20889, 20902, 20909, 20969, 20984, 20995, 21013, 21032, 21040, 21064, 21072, 21104, 21107, 21112, 21147, 21155, 21172, 21273, 21281, 21283, 21288, 21296, 21305, 21351, 21357, 21373, 21428, 21466, 21501, 21531, 21560, 21577, 21624, 21638, 21652, 21653, 21725, 21726, 21737, 21752, 21779, 21793, 21845, 21851, 21884, 21949, 21971, 22000, 22017, 22032, 22041, 22052, 22191, 22204, 22218, 22272, 22285, 22293, 22295, 22314, 22320, 22342, 22390, 22428, 22441, 22451, 22478, 22569, 22594, 22707, 22720, 22748, 22754, 22793, 22801, 22845, 22847, 22867, 22869, 22872, 22943, 22984, 23015, 23054, 23067, 23069, 23118, 23145, 23187, 23256, 23266, 23305, 23308, 23320, 23366, 23390, 23411, 23464, 23554, 23601, 23629, 23672, 23673, 23681, 23711, 23729, 23738, 23756, 23760, 23786, 23789, 23802, 23815, 23844, 23903, 23952, 23965, 23987, 23994, 24038, 24045, 24089, 24090, 24107, 24131, 24137, 24156, 24207, 24298, 24304, 24307, 24316, 24320, 24323, 24325, 24329, 24384, 24394, 24395, 24397, 24443, 24477, 24480, 24481, 24509, 24511, 24550, 24568, 24672, 24735, 24744, 24772, 24790, 24791, 24799, 24810, 24847, 24848, 24859, 24864, 24883, 24901, 24902, 24915, 24936, 24968, 24984, 24989, 25039, 25042, 25057, 25110, 25118, 25135, 25150, 25199, 25251, 25253, 25275, 25287, 25288, 25309, 25335, 25337, 25378, 25399, 25408, 25417, 25438, 25444, 25452, 25456, 25491, 25540, 25551, 25580, 25601, 25602, 25622, 25629, 25637, 25677, 25680, 25724, 25758, 25787, 25793, 25796, 25799, 25800, 25819, 25831, 25862, 25889, 25902, 25914, 26031, 26077, 26101, 26167, 26182, 26190, 26257, 26265, 26268, 26283, 26296, 26310, 26324, 26326, 26332, 26350, 26396, 26415, 26455, 26457, 26477, 26498, 26546, 26549, 26571, 26599, 26627, 26650, 26670, 26695, 26697, 26710, 26716, 26725, 26752, 26797, 26824, 26836, 26843, 26845, 26853, 26854, 26867, 26871, 26882, 26890, 26943, 26963, 26979, 26981, 26982, 26988, 26995, 26998, 27022, 27023, 27028, 27088, 27164, 27229, 27245, 27252, 27268, 27289, 27330, 27349, 27353, 27377, 27390, 27429, 27430, 27450, 27496, 27605, 27645, 27647, 27660, 27732, 27737, 27771, 27813, 27823, 27825, 27831, 27843, 27850, 27903, 27916, 27925, 27926, 27933, 27934, 27979, 28046, 28069, 28116, 28138, 28143, 28161, 28173, 28193, 28198, 28200, 28202, 28243, 28303, 28333, 28337, 28348, 28374, 28379, 28392, 28423, 28433, 28509, 28519, 28525, 28527, 28550, 28652, 28661, 28669, 28676, 28690, 28730, 28747, 28801, 28833, 28861, 28874, 28915, 28917, 28940, 28951, 28952, 28987, 29084, 29091, 29113, 29152, 29188, 29197, 29198, 29241, 29292, 29397, 29438, 29440, 29459, 29490, 29510, 29532, 29578, 29587, 29608, 29660, 29676, 29689, 29691, 29718, 29731, 29733, 29746, 29748, 29772, 29787, 29790, 29839, 29852, 29909, 29923, 29928, 29954, 29963, 29967, 29971, 29982, 30006, 30047, 30051, 30072, 30073, 30079, 30104, 30178, 30182, 30205, 30223, 30225, 30232, 30246, 30258, 30273, 30283, 30284, 30307, 30348, 30373, 30418, 30423, 30431, 30476, 30481, 30497, 30528, 30539, 30559, 30584, 30601, 30632, 30643, 30683, 30686, 30690, 30694, 30735, 30749, 30761, 30762, 30768, 30769, 30781, 30799, 30823, 30836, 30859, 30918, 30961, 30975, 31003, 31006, 31028, 31056, 31080, 31139, 31149, 31150, 31164, 31204, 31212, 31226, 31230, 31256, 31277, 31287, 31295, 31324, 31326, 31331, 31335, 31357, 31402, 31417, 31426, 31561, 31574, 31605, 31608, 31613, 31633, 31643, 31681, 31689, 31735, 31764, 31786, 31831, 31845, 31898, 31903, 31936, 31939, 31953, 31958, 32005, 32007, 32013, 32020, 32035, 32092, 32131, 32135, 32138, 32147, 32159, 32216, 32218, 32221, 32230, 32250, 32254, 32264, 32266, 32267, 32270, 32301, 32307, 32311, 32393, 32400, 32416, 32441, 32443, 32445, 32458]\n",
      " Outlier data - [2042, 1408, 1902, 1573, 1902, 1887, 1719, 1762, 1564, 2179, 1816, 1980, 1977, 1876, 1340, 2206, 1741, 1977, 1485, 1887, 1564, 2339, 2415, 2179, 1977, 1887, 1408, 1980, 1977, 1380, 1977, 1887, 1902, 1762, 1721, 1902, 1380, 2051, 2377, 1669, 2352, 1902, 1721, 1672, 2415, 2415, 1977, 2392, 1504, 1902, 1719, 2001, 1902, 1902, 1977, 1902, 1902, 1590, 1977, 1651, 2415, 1977, 1902, 1762, 1887, 1977, 1876, 1628, 1848, 1564, 1887, 1762, 1887, 1672, 1902, 2051, 2001, 1980, 1340, 2339, 1628, 1887, 1848, 1977, 1740, 2002, 1902, 1887, 1902, 1902, 1719, 2339, 1902, 1579, 1590, 1902, 1741, 1628, 2415, 1408, 1740, 2258, 1485, 1848, 1977, 1485, 1887, 1902, 1669, 1887, 1977, 1741, 1602, 1902, 1719, 1902, 1887, 1887, 1887, 1408, 1590, 1579, 1741, 1564, 2547, 2174, 2206, 2415, 1590, 2415, 1980, 1741, 1977, 1340, 1602, 1902, 1977, 1902, 2339, 1977, 2205, 1977, 1726, 1485, 2444, 2392, 1672, 1902, 1740, 1669, 1902, 1762, 2415, 2238, 1876, 2258, 1977, 1672, 2352, 1977, 1977, 1977, 1977, 1977, 2415, 2002, 1902, 1887, 1669, 1848, 1590, 1590, 2179, 1719, 1669, 1902, 1977, 2377, 1902, 1887, 2392, 1485, 1848, 1902, 1672, 1628, 1740, 1977, 1876, 1816, 1887, 1485, 1977, 1887, 1848, 1590, 1902, 2002, 1741, 1876, 1977, 2002, 1628, 2392, 1977, 1887, 1719, 2258, 1902, 1887, 1887, 1902, 1902, 1672, 1980, 1902, 1887, 1504, 1902, 1539, 1848, 1762, 1977, 1485, 1741, 2415, 1902, 1485, 1848, 1579, 1887, 1668, 1902, 1848, 1564, 1564, 2001, 1594, 1887, 1902, 1485, 1876, 1902, 1740, 1902, 1902, 1977, 1590, 1672, 1977, 1977, 1902, 1672, 1902, 2377, 1628, 1740, 1740, 2415, 1887, 1902, 1740, 2001, 3004, 2042, 1590, 2231, 1579, 1844, 1740, 1977, 2258, 1902, 1902, 1602, 1848, 2824, 1977, 2051, 1602, 1719, 1740, 1740, 1977, 2559, 1887, 1876, 1977, 2258, 2051, 1902, 1977, 1902, 1887, 2051, 1902, 1902, 1977, 1902, 2051, 2392, 2057, 1573, 1740, 1977, 2559, 2205, 1672, 1504, 1902, 2559, 1504, 1564, 1977, 1902, 1887, 1902, 2051, 1876, 1974, 1672, 1590, 1848, 1902, 2205, 1848, 1590, 1977, 1740, 1564, 2559, 2415, 1590, 1669, 1876, 1977, 1876, 2258, 1887, 1977, 1762, 1590, 1602, 1602, 1887, 1977, 1902, 1977, 1887, 1485, 2002, 1974, 1408, 1485, 1672, 1887, 1408, 2339, 1672, 1848, 2174, 1579, 1876, 1485, 1721, 2559, 1579, 1485, 2149, 1887, 1902, 1719, 1740, 1902, 1848, 1977, 1825, 1902, 1602, 1485, 1902, 1902, 2415, 1887, 1564, 2205, 1876, 1735, 2206, 1887, 1977, 2129, 2002, 2603, 1977, 1485, 1485, 2282, 1741, 1672, 1902, 1980, 1902, 1602, 1590, 1902, 2002, 1485, 1602, 1590, 1672, 2258, 1602, 1721, 2179, 1977, 1672, 1902, 4356, 1977, 2179, 1564, 1408, 1590, 1485, 2174, 1721, 1902, 1887, 1977, 1902, 2002, 1977, 1902, 1579, 1602, 1672, 1902, 2377, 1977, 2042, 1602, 1980, 1876, 1887, 1380, 1902, 2001, 2042, 2415, 2377, 1590, 1977, 1485, 1408, 1602, 1902, 1977, 1977, 1876, 2603, 2231, 2444, 1590, 2246, 1977, 1980, 1902, 1977, 1590, 1594, 1669, 1902, 1977, 1602, 1848, 2149, 1887, 1741, 2258, 1980, 2051, 1977, 1617, 2258, 2444, 1848, 1485, 1648, 1977, 2002, 1602, 2559, 1848, 1980, 2824, 1977, 1564, 1977, 1977, 1485, 1617, 1902, 1887, 1887, 1902, 1848, 1977, 1902, 1980, 2258, 1977, 1887, 1902, 1977, 2001, 2231, 1876, 1825, 1902, 2051, 2001, 1887, 1902, 1735, 1887, 1590, 1740, 1594, 1564, 1504, 1902, 2057, 1579, 2547, 1887, 2415, 2489, 2377, 1974, 1669, 2001, 1902, 1719, 1504, 1902, 1977, 1579, 1485, 1977, 3770, 1977, 1902, 1887, 1590, 1887, 1977, 1672, 1902, 1977, 1408, 1617, 1579, 1887, 1887, 1876, 1564, 2246, 1848, 1974, 1977, 1602, 1485, 1672, 1651, 1902, 1902, 1848, 1719, 1887, 2001, 1887, 1628, 1977, 1741, 1902, 2206, 1590, 1755, 3683, 1887, 1902, 2205, 1902, 1762, 1594, 1977, 1977, 1719, 1977, 1977, 1876, 1651, 1902, 1902, 1887, 2392, 1721, 1887, 1902, 2339, 1974, 1902, 1740, 1887, 1719, 1669, 2824, 1564, 2258, 1977, 1887, 1977, 1602, 1977, 2415, 1977, 1977, 1977, 1762, 2444, 1579, 1977, 2002, 1628, 2339, 1977, 1902, 1672, 1848, 1887, 1668, 1669, 1902, 2415, 1590, 1719, 1977, 2415, 2415, 2339, 1602, 1902, 1902, 1848, 1762, 1902, 1902, 1902, 1504, 1740, 1651, 1485, 1740, 2129, 2415, 1848, 2001, 1876, 1617, 4356, 1902, 1485, 1408, 1408, 1740, 1902, 1485, 1721, 1590, 1669, 1887, 2339, 1977, 1980, 1977, 1977, 2415, 1485, 1740, 1876, 1726, 1902, 1672, 1974, 1902, 1902, 1902, 1977, 1876, 1887, 1564, 2174, 1977, 1564, 1672, 2267, 1887, 1887, 1876, 1902, 1721, 1590, 1876, 1887, 1887, 1485, 1564, 1902, 2002, 2080, 1564, 1669, 1876, 1980, 3770, 1672, 1504, 1902, 1980, 1721, 1602, 2415, 1876, 1887, 1977, 1887, 1590, 1980, 2051, 1887, 1887, 1669, 2339, 2824, 1974, 1902, 2002, 1380, 1848, 1887, 1762, 1977, 1485, 1887, 1974, 1887, 1977, 1902, 1740, 1902, 1504, 2415, 1887, 1902, 1887, 1721, 1504, 1977, 1902, 1902, 1902, 2559, 1977, 2415, 1590, 1628, 1719, 1974, 2001, 2559, 1887, 2457, 2179, 1504, 1594, 1876, 2246, 1887, 1876, 2444, 1848, 1887, 2415, 2267, 1977, 1902, 2258, 1887, 1876, 1672, 1902, 1887, 1719, 2057, 1977, 1977, 1848, 1902, 1669, 2001, 2205, 1564, 1602, 2603, 1848, 2339, 1669, 1762, 1848, 1977, 1977, 2339, 1902, 1602, 1887, 1617, 1980, 1573, 1902, 1887, 1902, 1617, 1902, 1902, 1848, 1887, 1602, 1485, 1672, 2415, 1887, 1721, 1902, 1902, 1628, 1651, 1408, 2001, 2246, 1977, 1848, 1590, 1977, 1977, 1408, 2824, 1590, 1594, 2377, 1564, 1740, 1902, 1485, 1902, 2559, 1762, 1741, 1602, 2824, 1848, 1721, 1977, 1974, 1602, 1740, 2415, 1564, 1887, 1977, 1876, 1876, 2377, 2415, 1887, 1902, 1887, 1651, 1977, 2258, 1887, 1902, 1876, 1408, 2205, 1876, 2051, 2444, 2258, 1977, 2179, 1887, 1902, 1590, 2179, 1887, 2179, 1887, 2206, 2179, 1977, 1887, 1602, 1485, 1485, 1504, 1902, 2001, 1579, 2174, 1902, 1977, 1974, 2002, 3900, 2201, 2001, 1902, 1721, 1887, 1977, 2415, 1876, 1902, 1977, 2051, 2246, 1902, 2042, 2002, 1977, 1902, 1485, 1876, 1672, 2415, 1977, 1340, 1977, 2547, 2042, 1944, 2258, 1887, 1504, 1887, 1876, 1902, 2205, 2001, 1902, 2258, 1980, 2415, 1669, 1887, 2238, 2415, 1902, 1740, 1504, 1602, 1977, 1848, 1590, 1602, 1726, 2377, 1740, 1669, 2129, 1887, 2002, 2415, 1740, 2457, 1485, 2001, 1887, 1887, 1741, 1573, 1602, 1977, 2415, 1590, 2415, 1977, 1669, 1887, 1740, 1504, 1848, 1590, 1902, 1902, 1485, 2339, 1719, 1741, 2258, 1902, 1902, 2415, 1977, 2179, 1977, 2002, 1602, 2415, 1902, 2467, 1887, 1594, 2824, 1887, 1848, 1669, 2057, 1977, 1902, 1887, 3683, 2001, 1590, 1602, 2339, 1980, 1848, 2377, 1887, 1902, 1669, 1977, 1980, 1977, 2377, 1977, 1408, 1579, 1887, 2179, 1848, 2205, 1628, 1579, 1977, 1887, 1602, 1848, 3900, 2392, 1887, 1740, 2415, 1977, 1977, 1887, 1887, 2002, 1887, 2051, 1887, 1902, 1902, 1902, 1628, 1974, 1573, 2339, 1902, 1902, 2444, 2001, 1902, 1977, 1887, 2392, 1485, 1740, 1902, 1672, 1887, 1902, 2377, 1408, 1980, 1740, 2163, 1887, 1617, 2415, 1648, 1628, 1902, 2246, 1876, 1902, 2258, 2051, 1602, 1902, 1485, 1902, 1902, 1579, 1848, 1977, 1340, 1564, 1902, 1485, 1977, 1564, 1408, 1669, 1380, 1977, 2559, 1902, 1741, 1977, 1672, 1848, 1902, 1628, 2001, 1887, 1672, 1980, 1977, 2377, 1977, 1740, 2001, 2444, 2258, 1887, 2824, 1740, 1651, 1887, 1876, 1902, 2339, 2754, 2415, 1887, 1977, 2179, 1977, 1902, 1590, 1504, 1977, 2444, 1602, 1485, 1741, 2258, 1485, 1848, 1408, 2559, 1408, 1668, 1672, 1602, 1579, 1977, 1887, 1887, 1977, 2042, 1977, 1887, 1887, 1617, 2457, 1380, 1602, 1887, 1485, 2001, 2002, 1902, 1902, 1902, 1977, 1977, 2824, 1726, 2051, 1977, 2051, 1741, 1590, 1602, 1902, 1848, 2415, 1977, 1887, 1485, 1848, 2377, 1485, 2603, 1721, 1485, 1887, 1887, 1741, 1579, 2002, 2547, 2179, 1974, 1579, 2603, 2377, 1740, 1672, 1902, 1602, 1504, 2444, 1721, 1902, 1977, 1590, 2377, 1980, 1651, 2174, 1887, 1740, 1902, 1977, 1848, 2001, 2206, 1902, 2392, 1887, 1876, 2179, 1977, 1672, 1902, 1902, 1741, 2377, 1887, 2258, 2377, 1719, 2258, 1977, 1902, 1602, 2754, 1887, 1977, 1740, 1977, 1669, 2377, 1902, 1974, 1887, 1876, 1980, 1902, 2415, 2002, 1977, 1573, 1977, 2258, 1848, 1887, 1848, 1602, 1668, 1590, 1590, 1848, 1740, 1887, 1902, 1740, 1974, 1977, 1602, 2472, 1651, 1740, 1977, 1977, 1902, 1504, 1902, 1887, 2057, 1887, 1719, 1902, 1887, 2415, 1408, 1755, 1974, 1741, 1887, 1721, 1902, 1602, 1579, 2415, 1887, 2824, 2174, 1887, 1902, 2267, 2002, 1977, 2057, 1719, 1887, 1602, 1887, 1380, 2001, 1977, 1719, 1887, 1887, 1740, 1825, 2415, 1876, 1719, 1485, 1977, 2415, 1902, 1887, 1825, 1602, 1887, 1902, 2051, 1721, 1340, 1887, 1902, 1721, 1485, 3004, 1902, 1602, 1974, 1902, 2051, 1977, 1617, 1848, 1740, 1887, 1887, 1974, 2051, 1902, 1887, 4356, 2444, 1741, 1590, 1594, 1902, 1848, 1977, 1887, 1887, 1977, 1564, 1902, 1848, 1902, 1669, 1887, 1485, 1672, 1902, 2051, 1887, 1564, 1740, 1977, 1340, 1628, 1887, 1902, 1887, 1741, 2377, 1579, 1902, 1719, 1602, 2415, 1887, 1977, 1740, 1902, 1741, 2339, 1848, 1902, 1887, 1902, 2415, 1887, 1485, 1485, 1848, 2258, 1887, 1741, 2051, 1762, 1672, 1887, 1977, 2258, 2444, 1408, 1602, 1902, 1672, 1902, 2415, 1977, 1485, 2042, 1887, 1902, 2042, 1411, 1977, 2559, 1741, 1887, 1902, 1887, 1602, 1669, 1977]\n"
     ]
    },
    {
     "name": "stdout",
     "output_type": "stream",
     "text": [
      "Outlier Column Name hours_per_week Outlier Row numbers- [10, 28, 77, 157, 189, 272, 299, 520, 589, 935, 1034, 1036, 1064, 1066, 1172, 1200, 1262, 1272, 1411, 1417, 1458, 1500, 1684, 1730, 1824, 1887, 1929, 1987, 2015, 2333, 2358, 2429, 2444, 2594, 2761, 2920, 2932, 2959, 2963, 3092, 3225, 3291, 3302, 3343, 3578, 3749, 3773, 3909, 4086, 4091, 4101, 4236, 4294, 4308, 4312, 4337, 4348, 4441, 4568, 4736, 4778, 4862, 5085, 5172, 5242, 5376, 5432, 5468, 5489, 5507, 5590, 5594, 5632, 5682, 5766, 5808, 5877, 5916, 6070, 6084, 6180, 6380, 6390, 6475, 6524, 6618, 6693, 6743, 6744, 6822, 6846, 6898, 7027, 7100, 7142, 7527, 7580, 7606, 7678, 7809, 7810, 7863, 8038, 8045, 8069, 8072, 8149, 8160, 8224, 8375, 8393, 8410, 8431, 8447, 8551, 8584, 8628, 8634, 8654, 8669, 8704, 8711, 8745, 8780, 8796, 8823, 9058, 9124, 9147, 9322, 9398, 9582, 9718, 9741, 9811, 9831, 9884, 10060, 10126, 10137, 10143, 10260, 10266, 10377, 10468, 10728, 10841, 10850, 10914, 10954, 10957, 10986, 11059, 11135, 11157, 11451, 11453, 11503, 11787, 11833, 11835, 12008, 12209, 12330, 12336, 12492, 12520, 12617, 12625, 12788, 12876, 12918, 12924, 12972, 12973, 13005, 13026, 13336, 13340, 13370, 13558, 13580, 13617, 13625, 13694, 13707, 13858, 13928, 13932, 13987, 14203, 14368, 14509, 14511, 14573, 14593, 14642, 14645, 14767, 14986, 15008, 15016, 15180, 15356, 15374, 15384, 15412, 15460, 15508, 15534, 15603, 15709, 15795, 15854, 15899, 16019, 16036, 16138, 16294, 16318, 16422, 16604, 16868, 16915, 16931, 16960, 16992, 17165, 17253, 17286, 17333, 17440, 17505, 17611, 17613, 17634, 17674, 17815, 18358, 18396, 18603, 18657, 18705, 18825, 18881, 18966, 18975, 19053, 19141, 19160, 19296, 19337, 19353, 19399, 19419, 19427, 19446, 19529, 19731, 19750, 19778, 19804, 19925, 19944, 19995, 19997, 20036, 20043, 20072, 20283, 20429, 20563, 20578, 20588, 20593, 20608, 20696, 20878, 20909, 21056, 21147, 21249, 21350, 21399, 21582, 21831, 21852, 21859, 21892, 22000, 22130, 22190, 22216, 22237, 22313, 22387, 22391, 22557, 22720, 22951, 22955, 22960, 23082, 23106, 23179, 23217, 23226, 23248, 23252, 23396, 23398, 23467, 23476, 23519, 23536, 23580, 23649, 23668, 23749, 23830, 23903, 23925, 24005, 24232, 24252, 24284, 24378, 24483, 24576, 24732, 24869, 25078, 25130, 25146, 25175, 25290, 25328, 25331, 25354, 25364, 25613, 25674, 25713, 25717, 25806, 25831, 25967, 25986, 26120, 26145, 26155, 26250, 26312, 26400, 26429, 26596, 26638, 26756, 26780, 26858, 26887, 27175, 27180, 27222, 27582, 27594, 27611, 27727, 27764, 27809, 27839, 28068, 28112, 28221, 28363, 28411, 28478, 28479, 28594, 28625, 28898, 29017, 29097, 29187, 29263, 29273, 29446, 29492, 29508, 29683, 29688, 29751, 29752, 29775, 29867, 29942, 29989, 30002, 30011, 30036, 30200, 30205, 30340, 30522, 30532, 30555, 30610, 30727, 30754, 30766, 30807, 30836, 30992, 31046, 31108, 31163, 31390, 31392, 31432, 31502, 31533, 31597, 31651, 31681, 31699, 31754, 31805, 31837, 31849, 32001, 32079, 32157, 32391, 32402, 32459, 32469, 32476, 32494, 32525, 32531]\n",
      " Outlier data - [80, 80, 2, 2, 1, 98, 80, 80, 80, 99, 2, 1, 80, 80, 99, 80, 1, 80, 78, 90, 2, 80, 80, 90, 84, 99, 80, 3, 80, 90, 3, 84, 3, 3, 84, 98, 2, 80, 85, 84, 80, 2, 3, 84, 99, 80, 3, 84, 99, 84, 78, 3, 85, 99, 80, 80, 84, 99, 3, 84, 84, 90, 98, 2, 80, 99, 99, 80, 80, 80, 1, 3, 1, 80, 1, 1, 85, 3, 98, 80, 2, 87, 88, 90, 80, 99, 90, 90, 80, 80, 2, 99, 2, 80, 89, 80, 80, 80, 97, 85, 78, 80, 90, 90, 84, 99, 84, 80, 80, 80, 99, 80, 2, 1, 80, 80, 84, 80, 99, 84, 80, 80, 80, 80, 99, 90, 80, 94, 1, 3, 80, 80, 85, 80, 99, 99, 80, 85, 84, 80, 99, 85, 99, 96, 99, 82, 2, 80, 80, 90, 3, 99, 3, 80, 80, 1, 80, 97, 2, 99, 84, 80, 99, 85, 80, 3, 80, 80, 99, 99, 80, 2, 90, 3, 80, 80, 2, 86, 80, 2, 99, 99, 99, 80, 3, 84, 99, 3, 84, 2, 3, 84, 80, 84, 80, 99, 91, 2, 81, 84, 96, 99, 99, 99, 80, 78, 3, 99, 80, 99, 80, 84, 84, 98, 80, 80, 80, 3, 80, 80, 80, 99, 99, 80, 88, 98, 99, 80, 98, 80, 80, 84, 3, 99, 81, 2, 90, 84, 3, 98, 99, 84, 84, 84, 99, 3, 80, 99, 99, 92, 3, 1, 2, 99, 80, 2, 90, 99, 99, 1, 3, 80, 80, 80, 80, 99, 99, 80, 1, 80, 84, 2, 84, 80, 80, 2, 80, 90, 1, 99, 99, 84, 3, 80, 80, 85, 91, 85, 80, 80, 2, 80, 99, 84, 99, 2, 84, 99, 99, 3, 90, 1, 80, 98, 99, 3, 99, 2, 80, 84, 99, 80, 80, 96, 1, 80, 99, 90, 90, 99, 80, 90, 90, 3, 78, 1, 80, 99, 95, 85, 86, 1, 80, 80, 80, 80, 85, 84, 99, 80, 80, 80, 99, 90, 99, 99, 84, 99, 80, 80, 80, 99, 3, 84, 84, 99, 99, 90, 90, 99, 80, 80, 98, 99, 3, 96, 80, 84, 99, 99, 84, 80, 99, 78, 90, 80, 80, 95, 80, 84, 80, 80, 2, 99, 91, 80, 84, 80, 3, 80, 78, 99, 1, 96, 2, 3, 99, 2, 84, 99, 2, 90, 78, 84, 80, 85, 99, 3, 99, 99, 90, 80, 99, 80, 90, 90, 2, 3, 2, 80, 80, 80, 90, 99, 99, 80, 3, 3, 98, 80, 80, 80, 81, 89, 3, 99, 84, 3, 1, 99]\n"
     ]
    }
   ],
   "source": [
    "# iterate through each column and see if there are outliers\n",
    "# you can change the columns where you want to check for outliers\n",
    "\n",
    "\n",
    "for i  in range(0,len(dataset.columns)):\n",
    "    outlierData=[]\n",
    "    outlierRow=[]\n",
    "    if dataset[dataset.columns[i]].dtypes== np.int64 or dataset[dataset.columns[i]].dtypes== np.int64  :\n",
    "        outlierData, outlierRow=detect_outlier_row(dataset.iloc[:,i])\n",
    "        if len(outlierRow)>0:\n",
    "            print(\"Outlier Column Name\",dataset.columns[i] + \" Outlier Row numbers-\",outlierRow )\n",
    "            print(\" Outlier data -\", outlierData)"
   ]
  },
  {
   "cell_type": "code",
   "execution_count": 14,
   "metadata": {},
   "outputs": [],
   "source": [
    "def detect_outlier(data_1):\n",
    "    \n",
    "    threshold=3\n",
    "    mean_1 = np.mean(data_1)\n",
    "    std_1 =np.std(data_1)\n",
    "    \n",
    "    \n",
    "    for y in data_1:\n",
    "        z_score= (y - mean_1)/std_1 \n",
    "        if np.abs(z_score) > threshold:\n",
    "            outliers.append(y)\n",
    "           \n",
    "            \n",
    "    return outliers"
   ]
  },
  {
   "cell_type": "code",
   "execution_count": 15,
   "metadata": {},
   "outputs": [
    {
     "data": {
      "image/png": "[encoded data removed]",
      "text/plain": [
       "<Figure size 432x288 with 1 Axes>"
      ]
     },
     "metadata": {
      "needs_background": "light"
     },
     "output_type": "display_data"
    },
    {
     "data": {
      "image/png": "[encoded data removed]",
      "text/plain": [
       "<Figure size 432x288 with 1 Axes>"
      ]
     },
     "metadata": {
      "needs_background": "light"
     },
     "output_type": "display_data"
    },
    {
     "data": {
      "image/png": "[encoded data removed]",
      "text/plain": [
       "<Figure size 432x288 with 1 Axes>"
      ]
     },
     "metadata": {
      "needs_background": "light"
     },
     "output_type": "display_data"
    },
    {
     "data": {
      "image/png": "[encoded data removed]",
      "text/plain": [
       "<Figure size 432x288 with 1 Axes>"
      ]
     },
     "metadata": {
      "needs_background": "light"
     },
     "output_type": "display_data"
    },
    {
     "data": {
      "image/png": "[encoded data removed]",
      "text/plain": [
       "<Figure size 432x288 with 1 Axes>"
      ]
     },
     "metadata": {
      "needs_background": "light"
     },
     "output_type": "display_data"
    },
    {
     "data": {
      "image/png": "[encoded data removed]",
      "text/plain": [
       "<Figure size 432x288 with 1 Axes>"
      ]
     },
     "metadata": {
      "needs_background": "light"
     },
     "output_type": "display_data"
    }
   ],
   "source": [
    "# iterate through each column and see if there are outliers\n",
    "# you can change the columns where you want to check for outliers\n",
    "# plots the outliers\n",
    "fig=plt.figure()\n",
    "\n",
    "for i  in range(0,len(dataset.columns)):\n",
    "    outliers=[]\n",
    "   \n",
    "    if dataset[dataset.columns[i]].dtypes== np.int64 or dataset[dataset.columns[i]].dtypes== np.int64  :\n",
    "        \n",
    "        outliers=detect_outlier(dataset.iloc[:,i])\n",
    "        if len(outliers)>0:\n",
    "                   \n",
    "            ax = plt.subplot(1,1,1)\n",
    "            #Variable\n",
    "            ax.boxplot(dataset[list(dataset.columns)[i]])\n",
    "            plt.title(list(dataset.columns)[i] + \" outlier plot\")\n",
    "            plt.show()"
   ]
  },
  {
   "cell_type": "code",
   "execution_count": 16,
   "metadata": {},
   "outputs": [],
   "source": [
    "#1 = not correlated.\n",
    "#Between 1 and 5 = moderately correlated.\n",
    "#Greater than 5 = highly correlated.\n",
    "\n",
    "from statsmodels.stats.outliers_influence import variance_inflation_factor    \n",
    "\n",
    "def calculate_vif_(X, thresh=5.0):\n",
    "    variables = list(range(X.shape[1]))\n",
    "    dropped = True\n",
    "    while dropped:\n",
    "        dropped = False\n",
    "        vif = [variance_inflation_factor(X.iloc[:, variables].values, ix)\n",
    "               for ix in range(X.iloc[:, variables].shape[1])]\n",
    "\n",
    "        maxloc = vif.index(max(vif))\n",
    "        if max(vif) > thresh:\n",
    "            print('dropping \\'' + X.iloc[:, variables].columns[maxloc] +\n",
    "                  '\\' at index: ' + str(maxloc))\n",
    "            del variables[maxloc]\n",
    "            dropped = True\n",
    "\n",
    "    print('Remaining variables:')\n",
    "    print(X.columns[variables])\n",
    "    return X.iloc[:, variables]\n"
   ]
  },
  {
   "cell_type": "code",
   "execution_count": 17,
   "metadata": {},
   "outputs": [
    {
     "data": {
      "text/plain": [
       "Index(['Age', 'Workclass', 'fnlwgt', 'education', 'education_nu',\n",
       "       'marital status', 'occupation', 'relationship', 'race', 'sex',\n",
       "       'capital_gain', 'capital_loss', 'hours_per_week', 'native_country',\n",
       "       'salary'],\n",
       "      dtype='object')"
      ]
     },
     "execution_count": 17,
     "metadata": {},
     "output_type": "execute_result"
    }
   ],
   "source": [
    "dataset.columns\n"
   ]
  },
  {
   "cell_type": "code",
   "execution_count": 18,
   "metadata": {},
   "outputs": [
    {
     "name": "stdout",
     "output_type": "stream",
     "text": [
      "dropping 'education_nu' at index: 2\n",
      "dropping 'hours_per_week' at index: 4\n",
      "Remaining variables:\n",
      "Index(['Age', 'fnlwgt', 'capital_gain', 'capital_loss'], dtype='object')\n"
     ]
    }
   ],
   "source": [
    "dataset_clean=dataset[['Age','fnlwgt','education_nu', 'capital_gain', 'capital_loss', 'hours_per_week']]\n",
    "clean_data = calculate_vif_(dataset_clean)"
   ]
  },
  {
   "cell_type": "code",
   "execution_count": 19,
   "metadata": {},
   "outputs": [
    {
     "name": "stderr",
     "output_type": "stream",
     "text": [
      "C:\\Users\\khandelwalr\\AppData\\Local\\Continuum\\anaconda3\\lib\\site-packages\\sklearn\\preprocessing\\data.py:334: DataConversionWarning: Data with input dtype int64 were all converted to float64 by MinMaxScaler.\n",
      "  return self.partial_fit(X, y)\n"
     ]
    }
   ],
   "source": [
    "# Applying the MinMax Scaler\n",
    "#Transforms features by scaling each feature to a given range\n",
    "# Applying the MinMax Scaler\n",
    "\n",
    "from sklearn.preprocessing import MinMaxScaler\n",
    "sc_minmax= MinMaxScaler()\n",
    "dataset_sc_minmax= dataset[['Age','fnlwgt','education_nu', 'capital_gain', 'capital_loss', 'hours_per_week']]\n",
    "dataset_sc_minmax= pd.DataFrame(sc_minmax.fit_transform(dataset_sc_minmax))\n",
    "dataset_sc_minmax.columns=['Age','fnlwgt','education_nu', 'capital_gain', 'capital_loss', 'hours_per_week']"
   ]
  },
  {
   "cell_type": "code",
   "execution_count": 20,
   "metadata": {},
   "outputs": [
    {
     "data": {
      "text/html": [
       "<div>\n",
       "<style scoped>\n",
       "    .dataframe tbody tr th:only-of-type {\n",
       "        vertical-align: middle;\n",
       "    }\n",
       "\n",
       "    .dataframe tbody tr th {\n",
       "        vertical-align: top;\n",
       "    }\n",
       "\n",
       "    .dataframe thead th {\n",
       "        text-align: right;\n",
       "    }\n",
       "</style>\n",
       "<table border=\"1\" class=\"dataframe\">\n",
       "  <thead>\n",
       "    <tr style=\"text-align: right;\">\n",
       "      <th></th>\n",
       "      <th>Age</th>\n",
       "      <th>fnlwgt</th>\n",
       "      <th>education_nu</th>\n",
       "      <th>capital_gain</th>\n",
       "      <th>capital_loss</th>\n",
       "      <th>hours_per_week</th>\n",
       "    </tr>\n",
       "  </thead>\n",
       "  <tbody>\n",
       "    <tr>\n",
       "      <th>0</th>\n",
       "      <td>0.301370</td>\n",
       "      <td>0.044302</td>\n",
       "      <td>0.8</td>\n",
       "      <td>0.02174</td>\n",
       "      <td>0.0</td>\n",
       "      <td>0.397959</td>\n",
       "    </tr>\n",
       "    <tr>\n",
       "      <th>1</th>\n",
       "      <td>0.452055</td>\n",
       "      <td>0.048238</td>\n",
       "      <td>0.8</td>\n",
       "      <td>0.00000</td>\n",
       "      <td>0.0</td>\n",
       "      <td>0.122449</td>\n",
       "    </tr>\n",
       "  </tbody>\n",
       "</table>\n",
       "</div>"
      ],
      "text/plain": [
       "        Age    fnlwgt  education_nu  capital_gain  capital_loss  \\\n",
       "0  0.301370  0.044302           0.8       0.02174           0.0   \n",
       "1  0.452055  0.048238           0.8       0.00000           0.0   \n",
       "\n",
       "   hours_per_week  \n",
       "0        0.397959  \n",
       "1        0.122449  "
      ]
     },
     "execution_count": 20,
     "metadata": {},
     "output_type": "execute_result"
    }
   ],
   "source": [
    "dataset_sc_minmax.head(2)"
   ]
  },
  {
   "cell_type": "code",
   "execution_count": 102,
   "metadata": {},
   "outputs": [],
   "source": [
    "from sklearn.preprocessing import  LabelEncoder\n",
    "\n",
    "dataset_input= dataset[['Workclass','education','marital status', 'occupation', 'relationship', 'race','sex']].values\n",
    "dataset_target = dataset[['salary']].values\n",
    "\n",
    "labelencoder_X=LabelEncoder()\n",
    "dataset_input[:,0] = labelencoder_X.fit_transform(dataset_input[:,0])\n",
    "dataset_input[:,1] = labelencoder_X.fit_transform(dataset_input[:,1])\n",
    "dataset_input[:,2] = labelencoder_X.fit_transform(dataset_input[:,2])\n",
    "dataset_input[:,3] = labelencoder_X.fit_transform(dataset_input[:,3])\n",
    "dataset_input[:,4] = labelencoder_X.fit_transform(dataset_input[:,4])\n",
    "dataset_input[:,5] = labelencoder_X.fit_transform(dataset_input[:,5])\n",
    "dataset_input[:,6] = labelencoder_X.fit_transform(dataset_input[:,6])\n",
    "# Applying Lable encoder to Binary Target variable\n",
    "dataset_target[:,0]=labelencoder_X.fit_transform(dataset_target[:,0])"
   ]
  },
  {
   "cell_type": "code",
   "execution_count": 104,
   "metadata": {},
   "outputs": [
    {
     "data": {
      "text/html": [
       "<div>\n",
       "<style scoped>\n",
       "    .dataframe tbody tr th:only-of-type {\n",
       "        vertical-align: middle;\n",
       "    }\n",
       "\n",
       "    .dataframe tbody tr th {\n",
       "        vertical-align: top;\n",
       "    }\n",
       "\n",
       "    .dataframe thead th {\n",
       "        text-align: right;\n",
       "    }\n",
       "</style>\n",
       "<table border=\"1\" class=\"dataframe\">\n",
       "  <thead>\n",
       "    <tr style=\"text-align: right;\">\n",
       "      <th></th>\n",
       "      <th>Workclass</th>\n",
       "      <th>education</th>\n",
       "      <th>marital status</th>\n",
       "      <th>occupation</th>\n",
       "      <th>relationship</th>\n",
       "      <th>race</th>\n",
       "      <th>sex</th>\n",
       "    </tr>\n",
       "  </thead>\n",
       "  <tbody>\n",
       "    <tr>\n",
       "      <th>0</th>\n",
       "      <td>7</td>\n",
       "      <td>9</td>\n",
       "      <td>4</td>\n",
       "      <td>1</td>\n",
       "      <td>1</td>\n",
       "      <td>4</td>\n",
       "      <td>1</td>\n",
       "    </tr>\n",
       "    <tr>\n",
       "      <th>1</th>\n",
       "      <td>6</td>\n",
       "      <td>9</td>\n",
       "      <td>2</td>\n",
       "      <td>4</td>\n",
       "      <td>0</td>\n",
       "      <td>4</td>\n",
       "      <td>1</td>\n",
       "    </tr>\n",
       "    <tr>\n",
       "      <th>2</th>\n",
       "      <td>4</td>\n",
       "      <td>11</td>\n",
       "      <td>0</td>\n",
       "      <td>6</td>\n",
       "      <td>1</td>\n",
       "      <td>4</td>\n",
       "      <td>1</td>\n",
       "    </tr>\n",
       "    <tr>\n",
       "      <th>3</th>\n",
       "      <td>4</td>\n",
       "      <td>1</td>\n",
       "      <td>2</td>\n",
       "      <td>6</td>\n",
       "      <td>0</td>\n",
       "      <td>2</td>\n",
       "      <td>1</td>\n",
       "    </tr>\n",
       "    <tr>\n",
       "      <th>4</th>\n",
       "      <td>4</td>\n",
       "      <td>9</td>\n",
       "      <td>2</td>\n",
       "      <td>10</td>\n",
       "      <td>5</td>\n",
       "      <td>2</td>\n",
       "      <td>0</td>\n",
       "    </tr>\n",
       "  </tbody>\n",
       "</table>\n",
       "</div>"
      ],
      "text/plain": [
       "  Workclass education marital status occupation relationship race sex\n",
       "0         7         9              4          1            1    4   1\n",
       "1         6         9              2          4            0    4   1\n",
       "2         4        11              0          6            1    4   1\n",
       "3         4         1              2          6            0    2   1\n",
       "4         4         9              2         10            5    2   0"
      ]
     },
     "execution_count": 104,
     "metadata": {},
     "output_type": "execute_result"
    }
   ],
   "source": [
    "dataset_input = pd.DataFrame(dataset_input)\n",
    "dataset_input.columns=['Workclass','education','marital status', 'occupation', 'relationship', 'race','sex']\n",
    "dataset_input.head(5)"
   ]
  },
  {
   "cell_type": "code",
   "execution_count": 107,
   "metadata": {},
   "outputs": [
    {
     "data": {
      "text/html": [
       "<div>\n",
       "<style scoped>\n",
       "    .dataframe tbody tr th:only-of-type {\n",
       "        vertical-align: middle;\n",
       "    }\n",
       "\n",
       "    .dataframe tbody tr th {\n",
       "        vertical-align: top;\n",
       "    }\n",
       "\n",
       "    .dataframe thead th {\n",
       "        text-align: right;\n",
       "    }\n",
       "</style>\n",
       "<table border=\"1\" class=\"dataframe\">\n",
       "  <thead>\n",
       "    <tr style=\"text-align: right;\">\n",
       "      <th></th>\n",
       "      <th>0</th>\n",
       "      <th>1</th>\n",
       "      <th>2</th>\n",
       "      <th>3</th>\n",
       "      <th>4</th>\n",
       "      <th>5</th>\n",
       "      <th>6</th>\n",
       "      <th>7</th>\n",
       "      <th>8</th>\n",
       "      <th>9</th>\n",
       "      <th>...</th>\n",
       "      <th>230</th>\n",
       "      <th>231</th>\n",
       "      <th>232</th>\n",
       "      <th>233</th>\n",
       "      <th>234</th>\n",
       "      <th>235</th>\n",
       "      <th>236</th>\n",
       "      <th>237</th>\n",
       "      <th>238</th>\n",
       "      <th>239</th>\n",
       "    </tr>\n",
       "  </thead>\n",
       "  <tbody>\n",
       "    <tr>\n",
       "      <th>0</th>\n",
       "      <td>0.0</td>\n",
       "      <td>1.0</td>\n",
       "      <td>1.0</td>\n",
       "      <td>0.0</td>\n",
       "      <td>0.0</td>\n",
       "      <td>1.0</td>\n",
       "      <td>1.0</td>\n",
       "      <td>0.0</td>\n",
       "      <td>0.0</td>\n",
       "      <td>1.0</td>\n",
       "      <td>...</td>\n",
       "      <td>0.0</td>\n",
       "      <td>1.0</td>\n",
       "      <td>0.0</td>\n",
       "      <td>1.0</td>\n",
       "      <td>1.0</td>\n",
       "      <td>0.0</td>\n",
       "      <td>1.0</td>\n",
       "      <td>0.0</td>\n",
       "      <td>0.0</td>\n",
       "      <td>1.0</td>\n",
       "    </tr>\n",
       "    <tr>\n",
       "      <th>1</th>\n",
       "      <td>0.0</td>\n",
       "      <td>1.0</td>\n",
       "      <td>1.0</td>\n",
       "      <td>0.0</td>\n",
       "      <td>0.0</td>\n",
       "      <td>1.0</td>\n",
       "      <td>1.0</td>\n",
       "      <td>0.0</td>\n",
       "      <td>0.0</td>\n",
       "      <td>1.0</td>\n",
       "      <td>...</td>\n",
       "      <td>0.0</td>\n",
       "      <td>1.0</td>\n",
       "      <td>0.0</td>\n",
       "      <td>1.0</td>\n",
       "      <td>1.0</td>\n",
       "      <td>0.0</td>\n",
       "      <td>1.0</td>\n",
       "      <td>0.0</td>\n",
       "      <td>0.0</td>\n",
       "      <td>1.0</td>\n",
       "    </tr>\n",
       "    <tr>\n",
       "      <th>2</th>\n",
       "      <td>0.0</td>\n",
       "      <td>1.0</td>\n",
       "      <td>1.0</td>\n",
       "      <td>0.0</td>\n",
       "      <td>0.0</td>\n",
       "      <td>1.0</td>\n",
       "      <td>1.0</td>\n",
       "      <td>0.0</td>\n",
       "      <td>0.0</td>\n",
       "      <td>1.0</td>\n",
       "      <td>...</td>\n",
       "      <td>0.0</td>\n",
       "      <td>1.0</td>\n",
       "      <td>0.0</td>\n",
       "      <td>1.0</td>\n",
       "      <td>1.0</td>\n",
       "      <td>0.0</td>\n",
       "      <td>1.0</td>\n",
       "      <td>0.0</td>\n",
       "      <td>0.0</td>\n",
       "      <td>1.0</td>\n",
       "    </tr>\n",
       "    <tr>\n",
       "      <th>3</th>\n",
       "      <td>0.0</td>\n",
       "      <td>1.0</td>\n",
       "      <td>1.0</td>\n",
       "      <td>0.0</td>\n",
       "      <td>0.0</td>\n",
       "      <td>1.0</td>\n",
       "      <td>1.0</td>\n",
       "      <td>0.0</td>\n",
       "      <td>0.0</td>\n",
       "      <td>1.0</td>\n",
       "      <td>...</td>\n",
       "      <td>1.0</td>\n",
       "      <td>0.0</td>\n",
       "      <td>0.0</td>\n",
       "      <td>1.0</td>\n",
       "      <td>1.0</td>\n",
       "      <td>0.0</td>\n",
       "      <td>1.0</td>\n",
       "      <td>0.0</td>\n",
       "      <td>0.0</td>\n",
       "      <td>1.0</td>\n",
       "    </tr>\n",
       "    <tr>\n",
       "      <th>4</th>\n",
       "      <td>0.0</td>\n",
       "      <td>1.0</td>\n",
       "      <td>1.0</td>\n",
       "      <td>0.0</td>\n",
       "      <td>0.0</td>\n",
       "      <td>1.0</td>\n",
       "      <td>1.0</td>\n",
       "      <td>0.0</td>\n",
       "      <td>0.0</td>\n",
       "      <td>1.0</td>\n",
       "      <td>...</td>\n",
       "      <td>1.0</td>\n",
       "      <td>0.0</td>\n",
       "      <td>1.0</td>\n",
       "      <td>0.0</td>\n",
       "      <td>0.0</td>\n",
       "      <td>1.0</td>\n",
       "      <td>0.0</td>\n",
       "      <td>1.0</td>\n",
       "      <td>1.0</td>\n",
       "      <td>0.0</td>\n",
       "    </tr>\n",
       "  </tbody>\n",
       "</table>\n",
       "<p>5 rows × 240 columns</p>\n",
       "</div>"
      ],
      "text/plain": [
       "   0    1    2    3    4    5    6    7    8    9    ...  230  231  232  233  \\\n",
       "0  0.0  1.0  1.0  0.0  0.0  1.0  1.0  0.0  0.0  1.0  ...  0.0  1.0  0.0  1.0   \n",
       "1  0.0  1.0  1.0  0.0  0.0  1.0  1.0  0.0  0.0  1.0  ...  0.0  1.0  0.0  1.0   \n",
       "2  0.0  1.0  1.0  0.0  0.0  1.0  1.0  0.0  0.0  1.0  ...  0.0  1.0  0.0  1.0   \n",
       "3  0.0  1.0  1.0  0.0  0.0  1.0  1.0  0.0  0.0  1.0  ...  1.0  0.0  0.0  1.0   \n",
       "4  0.0  1.0  1.0  0.0  0.0  1.0  1.0  0.0  0.0  1.0  ...  1.0  0.0  1.0  0.0   \n",
       "\n",
       "   234  235  236  237  238  239  \n",
       "0  1.0  0.0  1.0  0.0  0.0  1.0  \n",
       "1  1.0  0.0  1.0  0.0  0.0  1.0  \n",
       "2  1.0  0.0  1.0  0.0  0.0  1.0  \n",
       "3  1.0  0.0  1.0  0.0  0.0  1.0  \n",
       "4  0.0  1.0  0.0  1.0  1.0  0.0  \n",
       "\n",
       "[5 rows x 240 columns]"
      ]
     },
     "execution_count": 107,
     "metadata": {},
     "output_type": "execute_result"
    }
   ],
   "source": [
    "from sklearn.preprocessing import OneHotEncoder\n",
    "oneHotEncoder= OneHotEncoder(categories='auto')\n",
    "dataset_input=oneHotEncoder.fit_transform(dataset_input).toarray()\n",
    "dataset_input = pd.DataFrame(dataset_input)\n",
    "dataset_input.head(5)"
   ]
  },
  {
   "cell_type": "code",
   "execution_count": 111,
   "metadata": {},
   "outputs": [
    {
     "data": {
      "text/html": [
       "<div>\n",
       "<style scoped>\n",
       "    .dataframe tbody tr th:only-of-type {\n",
       "        vertical-align: middle;\n",
       "    }\n",
       "\n",
       "    .dataframe tbody tr th {\n",
       "        vertical-align: top;\n",
       "    }\n",
       "\n",
       "    .dataframe thead th {\n",
       "        text-align: right;\n",
       "    }\n",
       "</style>\n",
       "<table border=\"1\" class=\"dataframe\">\n",
       "  <thead>\n",
       "    <tr style=\"text-align: right;\">\n",
       "      <th></th>\n",
       "      <th>Salary Range</th>\n",
       "    </tr>\n",
       "  </thead>\n",
       "  <tbody>\n",
       "    <tr>\n",
       "      <th>0</th>\n",
       "      <td>0</td>\n",
       "    </tr>\n",
       "    <tr>\n",
       "      <th>1</th>\n",
       "      <td>0</td>\n",
       "    </tr>\n",
       "  </tbody>\n",
       "</table>\n",
       "</div>"
      ],
      "text/plain": [
       "  Salary Range\n",
       "0            0\n",
       "1            0"
      ]
     },
     "execution_count": 111,
     "metadata": {},
     "output_type": "execute_result"
    }
   ],
   "source": [
    "dataset_target = pd.DataFrame(dataset_target)\n",
    "dataset_target.columns=['Salary Range']\n",
    "dataset_target.head(2)"
   ]
  },
  {
   "cell_type": "code",
   "execution_count": 28,
   "metadata": {},
   "outputs": [],
   "source": [
    "dataset_input=pd.DataFrame(dataset_input)\n",
    "final_df= pd.concat([dataset_input, dataset_sc_minmax], axis=1)"
   ]
  },
  {
   "cell_type": "code",
   "execution_count": 119,
   "metadata": {},
   "outputs": [
    {
     "data": {
      "text/html": [
       "<div>\n",
       "<style scoped>\n",
       "    .dataframe tbody tr th:only-of-type {\n",
       "        vertical-align: middle;\n",
       "    }\n",
       "\n",
       "    .dataframe tbody tr th {\n",
       "        vertical-align: top;\n",
       "    }\n",
       "\n",
       "    .dataframe thead th {\n",
       "        text-align: right;\n",
       "    }\n",
       "</style>\n",
       "<table border=\"1\" class=\"dataframe\">\n",
       "  <thead>\n",
       "    <tr style=\"text-align: right;\">\n",
       "      <th></th>\n",
       "      <th>Workclass_1</th>\n",
       "      <th>Workclass_2</th>\n",
       "      <th>Workclass_3</th>\n",
       "      <th>Workclass_4</th>\n",
       "      <th>Workclass_5</th>\n",
       "      <th>Workclass_6</th>\n",
       "      <th>Workclass_7</th>\n",
       "      <th>Workclass_81</th>\n",
       "      <th>Workclass_9</th>\n",
       "      <th>education_1</th>\n",
       "      <th>...</th>\n",
       "      <th>race_4</th>\n",
       "      <th>race_5</th>\n",
       "      <th>sex_male</th>\n",
       "      <th>sex_female</th>\n",
       "      <th>Age</th>\n",
       "      <th>fnlwgt</th>\n",
       "      <th>education_nu</th>\n",
       "      <th>capital_gain</th>\n",
       "      <th>capital_loss</th>\n",
       "      <th>hours_per_week</th>\n",
       "    </tr>\n",
       "  </thead>\n",
       "  <tbody>\n",
       "    <tr>\n",
       "      <th>0</th>\n",
       "      <td>0.0</td>\n",
       "      <td>0.0</td>\n",
       "      <td>0.0</td>\n",
       "      <td>0.0</td>\n",
       "      <td>0.0</td>\n",
       "      <td>0.0</td>\n",
       "      <td>0.0</td>\n",
       "      <td>1.0</td>\n",
       "      <td>0.0</td>\n",
       "      <td>0.0</td>\n",
       "      <td>...</td>\n",
       "      <td>0.0</td>\n",
       "      <td>1.0</td>\n",
       "      <td>0.0</td>\n",
       "      <td>1.0</td>\n",
       "      <td>0.301370</td>\n",
       "      <td>0.044302</td>\n",
       "      <td>0.8</td>\n",
       "      <td>0.02174</td>\n",
       "      <td>0.0</td>\n",
       "      <td>0.397959</td>\n",
       "    </tr>\n",
       "    <tr>\n",
       "      <th>1</th>\n",
       "      <td>0.0</td>\n",
       "      <td>0.0</td>\n",
       "      <td>0.0</td>\n",
       "      <td>0.0</td>\n",
       "      <td>0.0</td>\n",
       "      <td>0.0</td>\n",
       "      <td>1.0</td>\n",
       "      <td>0.0</td>\n",
       "      <td>0.0</td>\n",
       "      <td>0.0</td>\n",
       "      <td>...</td>\n",
       "      <td>0.0</td>\n",
       "      <td>1.0</td>\n",
       "      <td>0.0</td>\n",
       "      <td>1.0</td>\n",
       "      <td>0.452055</td>\n",
       "      <td>0.048238</td>\n",
       "      <td>0.8</td>\n",
       "      <td>0.00000</td>\n",
       "      <td>0.0</td>\n",
       "      <td>0.122449</td>\n",
       "    </tr>\n",
       "  </tbody>\n",
       "</table>\n",
       "<p>2 rows × 66 columns</p>\n",
       "</div>"
      ],
      "text/plain": [
       "   Workclass_1  Workclass_2  Workclass_3  Workclass_4  Workclass_5  \\\n",
       "0          0.0          0.0          0.0          0.0          0.0   \n",
       "1          0.0          0.0          0.0          0.0          0.0   \n",
       "\n",
       "   Workclass_6  Workclass_7  Workclass_81  Workclass_9  education_1  ...  \\\n",
       "0          0.0          0.0           1.0          0.0          0.0  ...   \n",
       "1          0.0          1.0           0.0          0.0          0.0  ...   \n",
       "\n",
       "   race_4  race_5  sex_male  sex_female       Age    fnlwgt  education_nu  \\\n",
       "0     0.0     1.0       0.0         1.0  0.301370  0.044302           0.8   \n",
       "1     0.0     1.0       0.0         1.0  0.452055  0.048238           0.8   \n",
       "\n",
       "   capital_gain  capital_loss  hours_per_week  \n",
       "0       0.02174           0.0        0.397959  \n",
       "1       0.00000           0.0        0.122449  \n",
       "\n",
       "[2 rows x 66 columns]"
      ]
     },
     "execution_count": 119,
     "metadata": {},
     "output_type": "execute_result"
    }
   ],
   "source": [
    "final_df= pd.DataFrame(final_df)\n",
    "final_df.columns=['Workclass_1','Workclass_2','Workclass_3','Workclass_4','Workclass_5','Workclass_6','Workclass_7','Workclass_81','Workclass_9',\n",
    "       'education_1','education_2','education_3','education_4','education_5','education_6','education_7','education_8','education_9','education_10','education_11','education_12','education_13','education_14','education_15','education_16',\n",
    "       'marital status_1', 'marital status_2', 'marital status_3', 'marital status_4', 'marital status_5', 'marital status_6', 'marital status_7', \n",
    "       'occupation_1','occupation_2', 'occupation_3','occupation_4','occupation_5','occupation_6','occupation_7','occupation_8','occupation_9','occupation_10','occupation_11','occupation_12','occupation_13','occupation_14','occupation_15',\n",
    "       'relationship_1', 'relationship_2','relationship_3','relationship_4','relationship_5','relationship_6',\n",
    "       'race_1','race_2','race_3','race_4','race_5',\n",
    "       'sex_male','sex_female',\n",
    "       'Age','fnlwgt','education_nu', 'capital_gain', 'capital_loss', 'hours_per_week']\n",
    "final_df.head(2)"
   ]
  },
  {
   "cell_type": "code",
   "execution_count": 30,
   "metadata": {},
   "outputs": [
    {
     "data": {
      "text/html": [
       "<div>\n",
       "<style scoped>\n",
       "    .dataframe tbody tr th:only-of-type {\n",
       "        vertical-align: middle;\n",
       "    }\n",
       "\n",
       "    .dataframe tbody tr th {\n",
       "        vertical-align: top;\n",
       "    }\n",
       "\n",
       "    .dataframe thead th {\n",
       "        text-align: right;\n",
       "    }\n",
       "</style>\n",
       "<table border=\"1\" class=\"dataframe\">\n",
       "  <thead>\n",
       "    <tr style=\"text-align: right;\">\n",
       "      <th></th>\n",
       "      <th>Age</th>\n",
       "      <th>fnlwgt</th>\n",
       "      <th>education_nu</th>\n",
       "      <th>capital_gain</th>\n",
       "      <th>capital_loss</th>\n",
       "      <th>hours_per_week</th>\n",
       "    </tr>\n",
       "  </thead>\n",
       "  <tbody>\n",
       "    <tr>\n",
       "      <th>Age</th>\n",
       "      <td>1.000000</td>\n",
       "      <td>-0.076646</td>\n",
       "      <td>0.036527</td>\n",
       "      <td>0.077674</td>\n",
       "      <td>0.057775</td>\n",
       "      <td>0.068756</td>\n",
       "    </tr>\n",
       "    <tr>\n",
       "      <th>fnlwgt</th>\n",
       "      <td>-0.076646</td>\n",
       "      <td>1.000000</td>\n",
       "      <td>-0.043195</td>\n",
       "      <td>0.000432</td>\n",
       "      <td>-0.010252</td>\n",
       "      <td>-0.018768</td>\n",
       "    </tr>\n",
       "    <tr>\n",
       "      <th>education_nu</th>\n",
       "      <td>0.036527</td>\n",
       "      <td>-0.043195</td>\n",
       "      <td>1.000000</td>\n",
       "      <td>0.122630</td>\n",
       "      <td>0.079923</td>\n",
       "      <td>0.148123</td>\n",
       "    </tr>\n",
       "    <tr>\n",
       "      <th>capital_gain</th>\n",
       "      <td>0.077674</td>\n",
       "      <td>0.000432</td>\n",
       "      <td>0.122630</td>\n",
       "      <td>1.000000</td>\n",
       "      <td>-0.031615</td>\n",
       "      <td>0.078409</td>\n",
       "    </tr>\n",
       "    <tr>\n",
       "      <th>capital_loss</th>\n",
       "      <td>0.057775</td>\n",
       "      <td>-0.010252</td>\n",
       "      <td>0.079923</td>\n",
       "      <td>-0.031615</td>\n",
       "      <td>1.000000</td>\n",
       "      <td>0.054256</td>\n",
       "    </tr>\n",
       "    <tr>\n",
       "      <th>hours_per_week</th>\n",
       "      <td>0.068756</td>\n",
       "      <td>-0.018768</td>\n",
       "      <td>0.148123</td>\n",
       "      <td>0.078409</td>\n",
       "      <td>0.054256</td>\n",
       "      <td>1.000000</td>\n",
       "    </tr>\n",
       "  </tbody>\n",
       "</table>\n",
       "</div>"
      ],
      "text/plain": [
       "                     Age    fnlwgt  education_nu  capital_gain  capital_loss  \\\n",
       "Age             1.000000 -0.076646      0.036527      0.077674      0.057775   \n",
       "fnlwgt         -0.076646  1.000000     -0.043195      0.000432     -0.010252   \n",
       "education_nu    0.036527 -0.043195      1.000000      0.122630      0.079923   \n",
       "capital_gain    0.077674  0.000432      0.122630      1.000000     -0.031615   \n",
       "capital_loss    0.057775 -0.010252      0.079923     -0.031615      1.000000   \n",
       "hours_per_week  0.068756 -0.018768      0.148123      0.078409      0.054256   \n",
       "\n",
       "                hours_per_week  \n",
       "Age                   0.068756  \n",
       "fnlwgt               -0.018768  \n",
       "education_nu          0.148123  \n",
       "capital_gain          0.078409  \n",
       "capital_loss          0.054256  \n",
       "hours_per_week        1.000000  "
      ]
     },
     "execution_count": 30,
     "metadata": {},
     "output_type": "execute_result"
    }
   ],
   "source": [
    "dataset.corr()"
   ]
  },
  {
   "cell_type": "code",
   "execution_count": 123,
   "metadata": {},
   "outputs": [
    {
     "data": {
      "text/plain": [
       "Text(0.5, 1.0, ' Pearson Correlation ')"
      ]
     },
     "execution_count": 123,
     "metadata": {},
     "output_type": "execute_result"
    },
    {
     "data": {
      "image/png": "[encoded data removed]",
      "text/plain": [
       "<Figure size 360x360 with 2 Axes>"
      ]
     },
     "metadata": {
      "needs_background": "light"
     },
     "output_type": "display_data"
    }
   ],
   "source": [
    "corr=dataset_sc_minmax.corr(method='pearson')\n",
    "fig, ax = plt.subplots(figsize=(5,5))\n",
    "cmap= sns.diverging_palette(220,10, as_cmap=True)\n",
    "mask = np.zeros_like(corr, dtype=np.bool)\n",
    "mask[np.triu_indices_from(mask)] = True\n",
    "sns.heatmap(corr,cmap=\"YlGn\", square=True, annot=True, ax=ax, mask=mask)\n",
    "plt.title(\" Pearson Correlation \")"
   ]
  },
  {
   "cell_type": "code",
   "execution_count": 124,
   "metadata": {},
   "outputs": [
    {
     "name": "stderr",
     "output_type": "stream",
     "text": [
      "C:\\Users\\khandelwalr\\AppData\\Local\\Continuum\\anaconda3\\lib\\site-packages\\ipykernel_launcher.py:5: DataConversionWarning: A column-vector y was passed when a 1d array was expected. Please change the shape of y to (n_samples,), for example using ravel().\n",
      "  \"\"\"\n"
     ]
    },
    {
     "name": "stdout",
     "output_type": "stream",
     "text": [
      "0.0014220077398738246\n",
      "0.005295101180712486\n",
      "0.006451917288026765\n",
      "2.2769986210115843e-07\n",
      "0.009761772412550699\n",
      "0.006026243380712795\n",
      "0.009046196008844399\n",
      "0.004743088785621419\n",
      "2.8683150624347487e-05\n",
      "0.000491408543867887\n",
      "0.0007185929041946848\n",
      "0.0004445112848063467\n",
      "0.00012578383755425677\n",
      "0.00027696606720565436\n",
      "0.00040928177131983607\n",
      "0.0004819396532905818\n",
      "0.00165054506712533\n",
      "0.0026353422820366485\n",
      "0.0024030105898276994\n",
      "0.0006340097855275966\n",
      "0.0030742795560849056\n",
      "0.0020320601612670167\n",
      "6.275102433613358e-05\n",
      "0.0010413416746105724\n",
      "0.003354482585707081\n",
      "0.00210964749118445\n",
      "0.00043582286048234693\n",
      "0.1977259015832358\n",
      "0.000759522062919115\n",
      "0.0020693460989796323\n",
      "0.0010192428433343872\n",
      "0.0011604625357815148\n",
      "0.001401496264361809\n",
      "0.005887663228073563\n",
      "1.239949028367046e-06\n",
      "0.00850834303030196\n",
      "0.011088731391095894\n",
      "0.0035838938496025054\n",
      "0.003279456182616122\n",
      "0.005346110236245573\n",
      "0.004681159434017995\n",
      "3.2766932600032265e-05\n",
      "0.00810403418224147\n",
      "0.0035372935039296814\n",
      "0.008232490198713121\n",
      "0.005388525392625141\n",
      "0.00586060570473904\n",
      "0.0024639686142346653\n",
      "0.002383173246138174\n",
      "0.0011189124727658797\n",
      "0.001328258114727067\n",
      "0.0015008492025222876\n",
      "0.004627199713921096\n",
      "0.001034306904003549\n",
      "0.0035686691924967377\n",
      "0.004291093673538636\n",
      "0.0008027200602757042\n",
      "0.005848836709254352\n",
      "0.003907043500310961\n",
      "0.00392689822113076\n",
      "0.11577011945172809\n",
      "0.18140959130617806\n",
      "0.11343459992750361\n",
      "0.10571712623419194\n",
      "0.03792460601473278\n",
      "0.06611672804864499\n"
     ]
    }
   ],
   "source": [
    "from sklearn.ensemble import RandomForestRegressor\n",
    "regressor = RandomForestRegressor(n_estimators=500, random_state=0, n_jobs=-1)\n",
    "\n",
    "# Train the classifier\n",
    "regressor.fit(final_df, dataset_target.values)\n",
    "\n",
    "# Print the name and gini importance of each feature\n",
    "for feature in  regressor.feature_importances_:\n",
    "    print(feature  )"
   ]
  },
  {
   "cell_type": "code",
   "execution_count": null,
   "metadata": {},
   "outputs": [],
   "source": [
    "import time\n",
    "\n",
    "start = time.time()\n",
    "print(\"hello\")\n",
    "end = time.time()\n",
    "print(end - start)"
   ]
  },
  {
   "cell_type": "code",
   "execution_count": 125,
   "metadata": {},
   "outputs": [
    {
     "name": "stdout",
     "output_type": "stream",
     "text": [
      "Features sorted by their score:\n",
      "[(0.1977, 'marital status_3'), (0.1814, 'sex_female'), (0.1158, 'sex_male'), (0.1134, 'Age'), (0.1057, 'fnlwgt'), (0.0661, 'capital_gain'), (0.0379, 'education_nu'), (0.0111, 'occupation_3'), (0.0098, 'Workclass_5'), (0.009, 'Workclass_7'), (0.0085, 'occupation_2'), (0.0082, 'occupation_11'), (0.0081, 'occupation_9'), (0.0065, 'Workclass_3'), (0.006, 'Workclass_6'), (0.0059, 'occupation_13'), (0.0059, 'marital status_9'), (0.0058, 'race_3'), (0.0054, 'occupation_12'), (0.0053, 'occupation_6'), (0.0053, 'Workclass_2'), (0.0047, 'occupation_7'), (0.0047, 'Workclass_81'), (0.0046, 'relationship_4'), (0.0043, 'race_1'), (0.0039, 'race_5'), (0.0039, 'race_4'), (0.0036, 'relationship_6'), (0.0036, 'occupation_4'), (0.0035, 'occupation_10'), (0.0034, 'education_16'), (0.0033, 'occupation_5'), (0.0031, 'education_12'), (0.0026, 'education_9'), (0.0025, 'occupation_14'), (0.0024, 'occupation_15'), (0.0024, 'education_10'), (0.0021, 'marital status_5'), (0.0021, 'marital status_1'), (0.002, 'education_13'), (0.0017, 'education_8'), (0.0015, 'relationship_3'), (0.0014, 'marital status_8'), (0.0014, 'Workclass_1'), (0.0013, 'relationship_2'), (0.0012, 'marital status_7'), (0.0011, 'relationship_1'), (0.001, 'relationship_5'), (0.001, 'marital status_6'), (0.001, 'education_15'), (0.0008, 'race_2'), (0.0008, 'marital status_4'), (0.0007, 'education_2'), (0.0006, 'education_11'), (0.0005, 'education_7'), (0.0005, 'education_1'), (0.0004, 'marital status_2'), (0.0004, 'education_6'), (0.0004, 'education_3'), (0.0003, 'education_5'), (0.0001, 'education_4'), (0.0001, 'education_14'), (0.0, 'occupation_8'), (0.0, 'occupation_1'), (0.0, 'Workclass_9'), (0.0, 'Workclass_4')]\n"
     ]
    },
    {
     "data": {
      "image/png": "[encoded data removed]",
      "text/plain": [
       "<Figure size 720x1080 with 1 Axes>"
      ]
     },
     "metadata": {
      "needs_background": "light"
     },
     "output_type": "display_data"
    }
   ],
   "source": [
    "names=['Workclass_1','Workclass_2','Workclass_3','Workclass_4','Workclass_5','Workclass_6','Workclass_7','Workclass_81','Workclass_9',\n",
    "       'education_1','education_2','education_3','education_4','education_5','education_6','education_7','education_8','education_9','education_10','education_11','education_12','education_13','education_14','education_15','education_16',\n",
    "       'marital status_1', 'marital status_2', 'marital status_3', 'marital status_4', 'marital status_5', 'marital status_6', 'marital status_7', 'marital status_8', 'marital status_9', \n",
    "       'occupation_1','occupation_2', 'occupation_3','occupation_4','occupation_5','occupation_6','occupation_7','occupation_8','occupation_9','occupation_10','occupation_11','occupation_12','occupation_13','occupation_14','occupation_15',\n",
    "       'relationship_1', 'relationship_2','relationship_3','relationship_4','relationship_5','relationship_6',\n",
    "       'race_1','race_2','race_3','race_4','race_5',\n",
    "       'sex_male','sex_female',\n",
    "       'Age','fnlwgt','education_nu', 'capital_gain', 'capital_loss', 'hours_per_week']\n",
    "print( \"Features sorted by their score:\")\n",
    "print( sorted(zip(map(lambda x: round(x, 4), regressor.feature_importances_), names), \n",
    "             reverse=True))\n",
    "importances = regressor.feature_importances_\n",
    "indices = np.argsort(importances)\n",
    "fig, ax = plt.subplots(figsize=(10,15))\n",
    "plt.title('Feature Importances using Random Forest')\n",
    "plt.barh(range(len(indices)), importances[indices], color='g', align='center')\n",
    "plt.yticks(range(len(indices)), [names[i] for i in indices])\n",
    "plt.xlabel('Relative Importance')\n",
    "plt.show()"
   ]
  },
  {
   "cell_type": "code",
   "execution_count": 96,
   "metadata": {},
   "outputs": [
    {
     "data": {
      "text/plain": [
       "array(['African', 'American', 'Asian'], dtype='<U8')"
      ]
     },
     "execution_count": 96,
     "metadata": {},
     "output_type": "execute_result"
    }
   ],
   "source": [
    "le= LabelEncoder()\n",
    "le.fit([\"African\", \"American\", \"Asian\"])\n",
    "le.classes_"
   ]
  },
  {
   "cell_type": "code",
   "execution_count": 97,
   "metadata": {},
   "outputs": [],
   "source": [
    "X=le.transform([\"American\", \"Asian\", \"African\"]) "
   ]
  },
  {
   "cell_type": "code",
   "execution_count": 98,
   "metadata": {},
   "outputs": [
    {
     "data": {
      "text/plain": [
       "array(['American', 'Asian', 'African'], dtype='<U8')"
      ]
     },
     "execution_count": 98,
     "metadata": {},
     "output_type": "execute_result"
    }
   ],
   "source": [
    "le.inverse_transform([1, 2, 0])"
   ]
  },
  {
   "cell_type": "code",
   "execution_count": 99,
   "metadata": {},
   "outputs": [
    {
     "data": {
      "text/plain": [
       "array([[0., 1., 0.],\n",
       "       [0., 0., 1.],\n",
       "       [1., 0., 0.]])"
      ]
     },
     "execution_count": 99,
     "metadata": {},
     "output_type": "execute_result"
    }
   ],
   "source": [
    "oe= OneHotEncoder(categories='auto')\n",
    "\n",
    "X= np.array(X)\n",
    "X= X.reshape(-1,1)\n",
    "X= oe.fit_transform(X)\n",
    "X.toarray()\n"
   ]
  },
  {
   "cell_type": "code",
   "execution_count": 142,
   "metadata": {},
   "outputs": [
    {
     "data": {
      "text/plain": [
       "array([0, 0, 0, ..., 0, 0, 1])"
      ]
     },
     "execution_count": 142,
     "metadata": {},
     "output_type": "execute_result"
    }
   ],
   "source": [
    "y=np.array(dataset_target)\n",
    "y=y.astype('int')\n",
    "y= y.ravel()\n",
    "y"
   ]
  },
  {
   "cell_type": "code",
   "execution_count": null,
   "metadata": {},
   "outputs": [],
   "source": []
  }
 ],
 "metadata": {
  "kernelspec": {
   "display_name": "Python 3",
   "language": "python",
   "name": "python3"
  },
  "language_info": {
   "codemirror_mode": {
    "name": "ipython",
    "version": 3
   },
   "file_extension": ".py",
   "mimetype": "text/x-python",
   "name": "python",
   "nbconvert_exporter": "python",
   "pygments_lexer": "ipython3",
   "version": "3.7.3"
  }
 },
 "nbformat": 4,
 "nbformat_minor": 2
}
